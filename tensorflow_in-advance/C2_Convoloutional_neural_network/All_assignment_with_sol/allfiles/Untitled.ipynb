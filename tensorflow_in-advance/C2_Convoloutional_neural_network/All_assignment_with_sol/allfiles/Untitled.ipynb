{
 "cells": [
  {
   "cell_type": "code",
   "execution_count": 1,
   "metadata": {},
   "outputs": [
    {
     "name": "stdout",
     "output_type": "stream",
     "text": [
      "Untitled.ipynb\n",
      "tmp2/\n",
      "tmp2/sign_mnist_test.csv\n",
      "tmp2/inception_v3_weights_tf_dim_ordering_tf_kernels_notop.h5\n",
      "tmp2/sign_mnist_train.csv\n",
      "tmp2/horse-or-human.zip\n",
      "tmp2/cats-and-dogs.zip\n",
      "tmp2/validation-horse-or-human.zip\n",
      "week1/\n",
      "week1/Exercise_1_Cats_vs_Dogs_Question-FINAL.ipynb\n",
      "week1/.ipynb_checkpoints/\n",
      "week1/.ipynb_checkpoints/Exercise_1_Cats_vs_Dogs_Answer-checkpoint.ipynb\n",
      "week1/.ipynb_checkpoints/Exercise_1_Cats_vs_Dogs_Question-FINAL-checkpoint.ipynb\n",
      "week2/\n",
      "week2/.ipynb_checkpoints/\n",
      "week2/.ipynb_checkpoints/Exercise_2_Cats_vs_Dogs_using_augmentation_Question-FINAL-checkpoint.ipynb\n",
      "week2/.ipynb_checkpoints/Exercise_2_Cats_vs_Dogs_using_augmentation_Answer-checkpoint.ipynb\n",
      "week2/Exercise_2_Cats_vs_Dogs_using_augmentation_Question-FINAL.ipynb\n",
      "week3/\n",
      "week3/.ipynb_checkpoints/\n",
      "week3/.ipynb_checkpoints/Exercise_3_Horses_vs_humans_using_Transfer_Learning_Answer-checkpoint.ipynb\n",
      "week3/.ipynb_checkpoints/Exercise_3_Horses_vs_humans_using_Transfer_Learning_Question-FINAL-checkpoint.ipynb\n",
      "week3/Exercise_3_Horses_vs_humans_using_Transfer_Learning_Question-FINAL.ipynb\n",
      "week4/\n",
      "week4/Exercise_4_Multi_class_classifier_Question-FINAL.ipynb\n",
      "week4/.ipynb_checkpoints/\n",
      "week4/.ipynb_checkpoints/Exercise_4_Multi_class_classifier_Answer-checkpoint.ipynb\n",
      "week4/.ipynb_checkpoints/Exercise_4_Multi_class_classifier_Question-FINAL-checkpoint.ipynb\n"
     ]
    }
   ],
   "source": [
    "!tar cvfz allfiles.tar.gz *"
   ]
  },
  {
   "cell_type": "code",
   "execution_count": null,
   "metadata": {},
   "outputs": [],
   "source": []
  }
 ],
 "metadata": {
  "kernelspec": {
   "display_name": "Python 3",
   "language": "python",
   "name": "python3"
  },
  "language_info": {
   "codemirror_mode": {
    "name": "ipython",
    "version": 3
   },
   "file_extension": ".py",
   "mimetype": "text/x-python",
   "name": "python",
   "nbconvert_exporter": "python",
   "pygments_lexer": "ipython3",
   "version": "3.6.8"
  }
 },
 "nbformat": 4,
 "nbformat_minor": 2
}
