{
 "cells": [
  {
   "cell_type": "markdown",
   "metadata": {
    "colab_type": "text",
    "id": "ZL_6GK8qX35J"
   },
   "source": [
    "\n",
    "\n",
    "# Week 1: Multiple Output Models using the Keras Functional API\n",
    "\n",
    "Welcome to the first programming assignment of the course! Your task will be to use the Keras functional API to train a model to predict two outputs. For this lab, you will use the **[Wine Quality Dataset](https://archive.ics.uci.edu/ml/datasets/Wine+Quality)** from the **UCI machine learning repository**. It has separate datasets for red wine and white wine.\n",
    "\n",
    "Normally, the wines are classified into one of the quality ratings specified in the attributes. In this exercise, you will combine the two datasets to predict the wine quality and whether the wine is red or white solely from the attributes. \n",
    "\n",
    "You will model wine quality estimations as a regression problem and wine type detection as a binary classification problem.\n",
    "\n",
    "#### Please complete sections that are marked **(TODO)**"
   ]
  },
  {
   "cell_type": "markdown",
   "metadata": {
    "colab_type": "text",
    "id": "obdcD6urYBY9"
   },
   "source": [
    "## Imports"
   ]
  },
  {
   "cell_type": "code",
   "execution_count": 68,
   "metadata": {
    "colab": {},
    "colab_type": "code",
    "id": "t8N3pcTQ5oQI"
   },
   "outputs": [],
   "source": [
    "import tensorflow as tf\n",
    "from tensorflow.keras.models import Model\n",
    "from tensorflow.keras.layers import Dense, Input\n",
    "\n",
    "import numpy as np\n",
    "import matplotlib.pyplot as plt\n",
    "import pandas as pd\n",
    "from sklearn.model_selection import train_test_split\n",
    "from sklearn.metrics import confusion_matrix\n",
    "import itertools\n",
    "\n",
    "import utils"
   ]
  },
  {
   "cell_type": "markdown",
   "metadata": {
    "colab_type": "text",
    "id": "gQMERzWQYpgm"
   },
   "source": [
    "## Load Dataset\n",
    "\n",
    "\n",
    "You will now load the dataset from the [UCI Machine Learning Repository](https://archive.ics.uci.edu/ml/index.php) which are already saved in your workspace.\n",
    "\n",
    "### Pre-process the white wine dataset (TODO)\n",
    "You will add a new column named `is_red` in your dataframe to indicate if the wine is white or red. \n",
    "- In the white wine dataset, you will fill the column `is_red` with  zeros (0)."
   ]
  },
  {
   "cell_type": "code",
   "execution_count": 69,
   "metadata": {
    "colab": {},
    "colab_type": "code",
    "deletable": false,
    "id": "2qYAjKXCd4RH",
    "nbgrader": {
     "cell_type": "code",
     "checksum": "325ea195519b7035934c95bb529a062c",
     "grade": false,
     "grade_id": "cell-e5bfa0f152d9a21f",
     "locked": false,
     "schema_version": 3,
     "solution": true,
     "task": false
    }
   },
   "outputs": [],
   "source": [
    "## Please uncomment all lines in this cell and replace those marked with `# YOUR CODE HERE`.\n",
    "## You can select all lines in this code cell with Ctrl+A (Windows/Linux) or Cmd+A (Mac), then press Ctrl+/ (Windows/Linux) or Cmd+/ (Mac) to uncomment.\n",
    "\n",
    "\n",
    "\n",
    "# # URL of the white wine dataset\n",
    "URI = './winequality-white.csv'\n",
    "\n",
    "# # load the dataset from the URL\n",
    "white_df = pd.read_csv(URI, sep=\";\")\n",
    "\n",
    "# # fill the `is_red` column with zeros.\n",
    "white_df[\"is_red\"] = 0\n",
    "\n",
    "# # keep only the first of duplicate items\n",
    "white_df = white_df.drop_duplicates(keep='first')\n"
   ]
  },
  {
   "cell_type": "code",
   "execution_count": 70,
   "metadata": {
    "deletable": false,
    "editable": false,
    "nbgrader": {
     "cell_type": "code",
     "checksum": "defe38d6ec58fd31cd67b89e46c4373f",
     "grade": true,
     "grade_id": "cell-30575e713b55fc51",
     "locked": true,
     "points": 1,
     "schema_version": 3,
     "solution": false,
     "task": false
    }
   },
   "outputs": [
    {
     "name": "stdout",
     "output_type": "stream",
     "text": [
      "\u001b[92m All public tests passed\n"
     ]
    }
   ],
   "source": [
    "# You can click `File -> Open` in the menu above and open the `utils.py` file \n",
    "# in case you want to inspect the unit tests being used for each graded function.\n",
    "\n",
    "utils.test_white_df(white_df)\n"
   ]
  },
  {
   "cell_type": "code",
   "execution_count": 71,
   "metadata": {
    "colab": {},
    "colab_type": "code",
    "id": "OQHK0ohBQRCk"
   },
   "outputs": [
    {
     "name": "stdout",
     "output_type": "stream",
     "text": [
      "8.8\n",
      "9.1\n"
     ]
    }
   ],
   "source": [
    "print(white_df.alcohol[0])\n",
    "print(white_df.alcohol[100])\n",
    "\n",
    "# EXPECTED OUTPUT\n",
    "# 8.8\n",
    "# 9.1"
   ]
  },
  {
   "cell_type": "markdown",
   "metadata": {},
   "source": [
    "### Pre-process the red wine dataset (TODO)\n",
    "- In the red wine dataset, you will fill in the column `is_red` with ones (1)."
   ]
  },
  {
   "cell_type": "code",
   "execution_count": 72,
   "metadata": {
    "colab": {},
    "colab_type": "code",
    "deletable": false,
    "id": "8y3QxKwBed8v",
    "nbgrader": {
     "cell_type": "code",
     "checksum": "12e0963d15be33b01b4e6ebc8945e51e",
     "grade": false,
     "grade_id": "cell-e47a40f306593274",
     "locked": false,
     "schema_version": 3,
     "solution": true,
     "task": false
    }
   },
   "outputs": [],
   "source": [
    "## Please uncomment all lines in this cell and replace those marked with `# YOUR CODE HERE`.\n",
    "## You can select all lines in this code cell with Ctrl+A (Windows/Linux) or Cmd+A (Mac), then press Ctrl+/ (Windows/Linux) or Cmd+/ (Mac) to uncomment.\n",
    "\n",
    "\n",
    "\n",
    "# # URL of the red wine dataset\n",
    "URI = './winequality-red.csv'\n",
    "\n",
    "# # load the dataset from the URL\n",
    "red_df = pd.read_csv(URI, sep=\";\")\n",
    "\n",
    "# # fill the `is_red` column with ones.\n",
    "red_df[\"is_red\"] = 1\n",
    "\n",
    "# # keep only the first of duplicate items\n",
    "red_df = red_df.drop_duplicates(keep='first')\n"
   ]
  },
  {
   "cell_type": "code",
   "execution_count": 73,
   "metadata": {
    "deletable": false,
    "editable": false,
    "nbgrader": {
     "cell_type": "code",
     "checksum": "d8e0c91b0fd668b63ba74a8f2f958b59",
     "grade": true,
     "grade_id": "cell-2a75937adcc0c25b",
     "locked": true,
     "points": 1,
     "schema_version": 3,
     "solution": false,
     "task": false
    }
   },
   "outputs": [
    {
     "name": "stdout",
     "output_type": "stream",
     "text": [
      "\u001b[92m All public tests passed\n"
     ]
    }
   ],
   "source": [
    "utils.test_red_df(red_df)\n"
   ]
  },
  {
   "cell_type": "code",
   "execution_count": 74,
   "metadata": {
    "colab": {},
    "colab_type": "code",
    "id": "zsB3LUzNQpo_"
   },
   "outputs": [
    {
     "name": "stdout",
     "output_type": "stream",
     "text": [
      "9.4\n",
      "10.2\n"
     ]
    }
   ],
   "source": [
    "print(red_df.alcohol[0])\n",
    "print(red_df.alcohol[100])\n",
    "\n",
    "# EXPECTED OUTPUT\n",
    "# 9.4\n",
    "# 10.2"
   ]
  },
  {
   "cell_type": "markdown",
   "metadata": {
    "colab_type": "text",
    "id": "2G8B-NYuM6-f"
   },
   "source": [
    "### Concatenate the datasets\n",
    "\n",
    "Next, concatenate the red and white wine dataframes."
   ]
  },
  {
   "cell_type": "code",
   "execution_count": 75,
   "metadata": {
    "colab": {},
    "colab_type": "code",
    "id": "YpQrOjJbfN3m"
   },
   "outputs": [],
   "source": [
    "df = pd.concat([red_df, white_df], ignore_index=True)"
   ]
  },
  {
   "cell_type": "code",
   "execution_count": 76,
   "metadata": {
    "colab": {},
    "colab_type": "code",
    "id": "Se2dTmThQyjb"
   },
   "outputs": [
    {
     "name": "stdout",
     "output_type": "stream",
     "text": [
      "9.4\n",
      "9.5\n"
     ]
    }
   ],
   "source": [
    "print(df.alcohol[0])\n",
    "print(df.alcohol[100])\n",
    "\n",
    "# EXPECTED OUTPUT\n",
    "# 9.4\n",
    "# 9.5"
   ]
  },
  {
   "cell_type": "markdown",
   "metadata": {},
   "source": [
    "In a real-world scenario, you should shuffle the data. For this assignment however, **you are not** going to do that because the grader needs to test with deterministic data. If you want the code to do it **after** you've gotten your grade for this notebook, we left the commented line below for reference"
   ]
  },
  {
   "cell_type": "code",
   "execution_count": 104,
   "metadata": {
    "colab": {},
    "colab_type": "code",
    "id": "wx6y3rPpQv4k"
   },
   "outputs": [],
   "source": [
    "df = df.iloc[np.random.permutation(len(df))]"
   ]
  },
  {
   "cell_type": "markdown",
   "metadata": {
    "colab_type": "text",
    "id": "-EqIcbg5M_n1"
   },
   "source": [
    "This will chart the quality of the wines."
   ]
  },
  {
   "cell_type": "code",
   "execution_count": 105,
   "metadata": {
    "colab": {},
    "colab_type": "code",
    "id": "IsvK0-Sgy17C"
   },
   "outputs": [
    {
     "data": {
      "image/png": "[encoded data removed]",
      "text/plain": [
       "<Figure size 432x288 with 1 Axes>"
      ]
     },
     "metadata": {
      "needs_background": "light"
     },
     "output_type": "display_data"
    }
   ],
   "source": [
    "df['quality'].hist(bins=20);"
   ]
  },
  {
   "cell_type": "markdown",
   "metadata": {
    "colab_type": "text",
    "id": "Nut1rmYLzf-p"
   },
   "source": [
    "### Imbalanced data (TODO)\n",
    "You can see from the plot above that the wine quality dataset is imbalanced. \n",
    "- Since there are very few observations with quality equal to 3, 4, 8 and 9, you can drop these observations from your dataset. \n",
    "- You can do this by removing data belonging to all classes except those > 4 and < 8."
   ]
  },
  {
   "cell_type": "code",
   "execution_count": 106,
   "metadata": {
    "colab": {},
    "colab_type": "code",
    "deletable": false,
    "id": "doH9_-gnf3sz",
    "nbgrader": {
     "cell_type": "code",
     "checksum": "d9ba9fc3a3ca02ccc567be33652b80fe",
     "grade": false,
     "grade_id": "cell-6a3e9db696f6827b",
     "locked": false,
     "schema_version": 3,
     "solution": true,
     "task": false
    }
   },
   "outputs": [],
   "source": [
    "\n",
    "# Please uncomment all lines in this cell and replace those marked with `# YOUR CODE HERE`.\n",
    "# You can select all lines in this code cell with Ctrl+A (Windows/Linux) or Cmd+A (Mac), then press Ctrl+/ (Windows/Linux) or Cmd+/ (Mac) to uncomment.\n",
    "\n",
    "\n",
    "\n",
    "# get data with wine quality greater than 4 and less than 8\n",
    "df = df[(df['quality'] > 4) & (df['quality'] < 8 )]\n",
    "\n",
    "# reset index and drop the old one\n",
    "df = df.reset_index(drop=True)"
   ]
  },
  {
   "cell_type": "code",
   "execution_count": 107,
   "metadata": {
    "deletable": false,
    "editable": false,
    "nbgrader": {
     "cell_type": "code",
     "checksum": "281e1d86a4803560ed5892cd7eda4c01",
     "grade": true,
     "grade_id": "cell-aed3da719d4682c7",
     "locked": true,
     "points": 1,
     "schema_version": 3,
     "solution": false,
     "task": false
    },
    "scrolled": false
   },
   "outputs": [
    {
     "name": "stdout",
     "output_type": "stream",
     "text": [
      "df.alcohol[0]_check: Value is not as expected. Please check quality interval.\n",
      "Expected: 9.4\n",
      "Result: 10.5\n",
      "Please open utils.py if you want to see the unit test here.\n",
      "\n",
      "df.alcohol[100]_check: Value is not as expected. Please check quality interval.\n",
      "Expected: 10.9\n",
      "Result: 10.3\n",
      "Please open utils.py if you want to see the unit test here.\n",
      "\n",
      "\u001b[92m 0  Tests passed\n",
      "\u001b[91m 2  Tests failed\n"
     ]
    },
    {
     "ename": "Exception",
     "evalue": "Please check the error messages above.",
     "output_type": "error",
     "traceback": [
      "\u001b[0;31m---------------------------------------------------------------------------\u001b[0m",
      "\u001b[0;31mException\u001b[0m                                 Traceback (most recent call last)",
      "\u001b[0;32m<ipython-input-107-02ac41180da9>\u001b[0m in \u001b[0;36m<module>\u001b[0;34m\u001b[0m\n\u001b[0;32m----> 1\u001b[0;31m \u001b[0mutils\u001b[0m\u001b[0;34m.\u001b[0m\u001b[0mtest_df_drop\u001b[0m\u001b[0;34m(\u001b[0m\u001b[0mdf\u001b[0m\u001b[0;34m)\u001b[0m\u001b[0;34m\u001b[0m\u001b[0;34m\u001b[0m\u001b[0m\n\u001b[0m\u001b[1;32m      2\u001b[0m \u001b[0;34m\u001b[0m\u001b[0m\n",
      "\u001b[0;32m~/work/release/W1_Assignment/utils.py\u001b[0m in \u001b[0;36mtest_df_drop\u001b[0;34m(df)\u001b[0m\n\u001b[1;32m     94\u001b[0m     ]\n\u001b[1;32m     95\u001b[0m \u001b[0;34m\u001b[0m\u001b[0m\n\u001b[0;32m---> 96\u001b[0;31m     \u001b[0mtest_loop\u001b[0m\u001b[0;34m(\u001b[0m\u001b[0mtest_cases\u001b[0m\u001b[0;34m)\u001b[0m\u001b[0;34m\u001b[0m\u001b[0;34m\u001b[0m\u001b[0m\n\u001b[0m\u001b[1;32m     97\u001b[0m \u001b[0;34m\u001b[0m\u001b[0m\n\u001b[1;32m     98\u001b[0m \u001b[0;32mdef\u001b[0m \u001b[0mtest_data_sizes\u001b[0m\u001b[0;34m(\u001b[0m\u001b[0mtrain_size\u001b[0m\u001b[0;34m,\u001b[0m \u001b[0mtest_size\u001b[0m\u001b[0;34m,\u001b[0m \u001b[0mval_size\u001b[0m\u001b[0;34m)\u001b[0m\u001b[0;34m:\u001b[0m\u001b[0;34m\u001b[0m\u001b[0;34m\u001b[0m\u001b[0m\n",
      "\u001b[0;32m~/work/release/W1_Assignment/utils.py\u001b[0m in \u001b[0;36mtest_loop\u001b[0;34m(test_cases)\u001b[0m\n\u001b[1;32m     25\u001b[0m         \u001b[0mprint\u001b[0m\u001b[0;34m(\u001b[0m\u001b[0;34m'\\033[92m'\u001b[0m\u001b[0;34m,\u001b[0m \u001b[0msuccess\u001b[0m\u001b[0;34m,\u001b[0m\u001b[0;34m\" Tests passed\"\u001b[0m\u001b[0;34m)\u001b[0m\u001b[0;34m\u001b[0m\u001b[0;34m\u001b[0m\u001b[0m\n\u001b[1;32m     26\u001b[0m         \u001b[0mprint\u001b[0m\u001b[0;34m(\u001b[0m\u001b[0;34m'\\033[91m'\u001b[0m\u001b[0;34m,\u001b[0m \u001b[0mfails\u001b[0m\u001b[0;34m,\u001b[0m \u001b[0;34m\" Tests failed\"\u001b[0m\u001b[0;34m)\u001b[0m\u001b[0;34m\u001b[0m\u001b[0;34m\u001b[0m\u001b[0m\n\u001b[0;32m---> 27\u001b[0;31m         \u001b[0;32mraise\u001b[0m \u001b[0mException\u001b[0m\u001b[0;34m(\u001b[0m\u001b[0;34m\"Please check the error messages above.\"\u001b[0m\u001b[0;34m)\u001b[0m\u001b[0;34m\u001b[0m\u001b[0;34m\u001b[0m\u001b[0m\n\u001b[0m\u001b[1;32m     28\u001b[0m \u001b[0;34m\u001b[0m\u001b[0m\n\u001b[1;32m     29\u001b[0m \u001b[0;32mdef\u001b[0m \u001b[0mtest_white_df\u001b[0m\u001b[0;34m(\u001b[0m\u001b[0mwhite_df\u001b[0m\u001b[0;34m)\u001b[0m\u001b[0;34m:\u001b[0m\u001b[0;34m\u001b[0m\u001b[0;34m\u001b[0m\u001b[0m\n",
      "\u001b[0;31mException\u001b[0m: Please check the error messages above."
     ]
    }
   ],
   "source": [
    "utils.test_df_drop(df)\n",
    "\n"
   ]
  },
  {
   "cell_type": "code",
   "execution_count": 36,
   "metadata": {
    "colab": {},
    "colab_type": "code",
    "id": "xNR1iAlMRPXO"
   },
   "outputs": [
    {
     "name": "stdout",
     "output_type": "stream",
     "text": [
      "9.2\n",
      "10.9\n"
     ]
    }
   ],
   "source": [
    "print(df.alcohol[0])\n",
    "print(df.alcohol[100])\n",
    "\n",
    "# EXPECTED OUTPUT\n",
    "# 9.4\n",
    "# 10.9"
   ]
  },
  {
   "cell_type": "markdown",
   "metadata": {
    "colab_type": "text",
    "id": "cwhuRpnVRTzG"
   },
   "source": [
    "You can plot again to see the new range of data and quality"
   ]
  },
  {
   "cell_type": "code",
   "execution_count": 37,
   "metadata": {
    "colab": {},
    "colab_type": "code",
    "id": "857ygzZiLgGg"
   },
   "outputs": [
    {
     "data": {
      "image/png": "[encoded data removed]",
      "text/plain": [
       "<Figure size 432x288 with 1 Axes>"
      ]
     },
     "metadata": {
      "needs_background": "light"
     },
     "output_type": "display_data"
    }
   ],
   "source": [
    "df['quality'].hist(bins=20);"
   ]
  },
  {
   "cell_type": "markdown",
   "metadata": {
    "colab_type": "text",
    "id": "n3k0vqSsp84t"
   },
   "source": [
    "### Train Test Split (TODO)\n",
    "\n",
    "Next, you can split the datasets into training, test and validation datasets.\n",
    "- The data frame should be split 80:20 into `train` and `test` sets.\n",
    "- The resulting `train` should then be split 80:20 into `train` and `val` sets.\n",
    "- The `train_test_split` parameter `test_size` takes a float value that ranges between 0. and 1, and represents the proportion of the dataset that is allocated to the test set.  The rest of the data is allocated to the training set."
   ]
  },
  {
   "cell_type": "code",
   "execution_count": 38,
   "metadata": {
    "colab": {},
    "colab_type": "code",
    "deletable": false,
    "id": "PAVIf2-fgRVY",
    "nbgrader": {
     "cell_type": "code",
     "checksum": "7f5738f4fb51d65adc9a8acbdf2b9970",
     "grade": false,
     "grade_id": "cell-91946cadf745206b",
     "locked": false,
     "schema_version": 3,
     "solution": true,
     "task": false
    }
   },
   "outputs": [],
   "source": [
    "## Please uncomment all lines in this cell and replace those marked with `# YOUR CODE HERE`.\n",
    "## You can select all lines in this code cell with Ctrl+A (Windows/Linux) or Cmd+A (Mac), then press Ctrl+/ (Windows/Linux) or Cmd+/ (Mac) to uncomment.\n",
    "\n",
    "\n",
    "\n",
    "## Please do not change the random_state parameter. This is needed for grading.\n",
    "\n",
    "# # split df into 80:20 train and test sets\n",
    "train, test = train_test_split(df, test_size=0.2, random_state = 1)\n",
    "                               \n",
    "# # split train into 80:20 train and val sets\n",
    "train, val = train_test_split(train, test_size=0.2, random_state = 1)"
   ]
  },
  {
   "cell_type": "code",
   "execution_count": 39,
   "metadata": {
    "colab": {},
    "colab_type": "code",
    "deletable": false,
    "editable": false,
    "id": "57h9LcEzRWpk",
    "nbgrader": {
     "cell_type": "code",
     "checksum": "42adbe9e66efac7c7a5f8cd73ac92f22",
     "grade": true,
     "grade_id": "cell-64b8b38cd0b965f6",
     "locked": true,
     "points": 1,
     "schema_version": 3,
     "solution": false,
     "task": false
    }
   },
   "outputs": [
    {
     "name": "stdout",
     "output_type": "stream",
     "text": [
      "\u001b[92m All public tests passed\n"
     ]
    }
   ],
   "source": [
    "utils.test_data_sizes(train.size, test.size, val.size)\n",
    "\n"
   ]
  },
  {
   "cell_type": "markdown",
   "metadata": {
    "colab_type": "text",
    "id": "RwTNu4KFqG-K"
   },
   "source": [
    "Here's where you can explore the training stats. You can pop the labels 'is_red' and 'quality' from the data as these will be used as the labels\n"
   ]
  },
  {
   "cell_type": "code",
   "execution_count": 40,
   "metadata": {
    "colab": {},
    "colab_type": "code",
    "id": "Y_afyhhHM6WQ"
   },
   "outputs": [],
   "source": [
    "train_stats = train.describe()\n",
    "train_stats.pop('is_red')\n",
    "train_stats.pop('quality')\n",
    "train_stats = train_stats.transpose()"
   ]
  },
  {
   "cell_type": "markdown",
   "metadata": {
    "colab_type": "text",
    "id": "ahvbYm4fNqSt"
   },
   "source": [
    "Explore the training stats!"
   ]
  },
  {
   "cell_type": "code",
   "execution_count": 41,
   "metadata": {
    "colab": {},
    "colab_type": "code",
    "id": "n_gAtPjZ0otF"
   },
   "outputs": [
    {
     "data": {
      "text/html": [
       "<div>\n",
       "<style scoped>\n",
       "    .dataframe tbody tr th:only-of-type {\n",
       "        vertical-align: middle;\n",
       "    }\n",
       "\n",
       "    .dataframe tbody tr th {\n",
       "        vertical-align: top;\n",
       "    }\n",
       "\n",
       "    .dataframe thead th {\n",
       "        text-align: right;\n",
       "    }\n",
       "</style>\n",
       "<table border=\"1\" class=\"dataframe\">\n",
       "  <thead>\n",
       "    <tr style=\"text-align: right;\">\n",
       "      <th></th>\n",
       "      <th>count</th>\n",
       "      <th>mean</th>\n",
       "      <th>std</th>\n",
       "      <th>min</th>\n",
       "      <th>25%</th>\n",
       "      <th>50%</th>\n",
       "      <th>75%</th>\n",
       "      <th>max</th>\n",
       "    </tr>\n",
       "  </thead>\n",
       "  <tbody>\n",
       "    <tr>\n",
       "      <th>fixed acidity</th>\n",
       "      <td>3155.0</td>\n",
       "      <td>7.200048</td>\n",
       "      <td>1.316837</td>\n",
       "      <td>3.80000</td>\n",
       "      <td>6.400000</td>\n",
       "      <td>6.9000</td>\n",
       "      <td>7.7000</td>\n",
       "      <td>15.60000</td>\n",
       "    </tr>\n",
       "    <tr>\n",
       "      <th>volatile acidity</th>\n",
       "      <td>3155.0</td>\n",
       "      <td>0.339468</td>\n",
       "      <td>0.162496</td>\n",
       "      <td>0.08500</td>\n",
       "      <td>0.230000</td>\n",
       "      <td>0.2900</td>\n",
       "      <td>0.4000</td>\n",
       "      <td>1.33000</td>\n",
       "    </tr>\n",
       "    <tr>\n",
       "      <th>citric acid</th>\n",
       "      <td>3155.0</td>\n",
       "      <td>0.317632</td>\n",
       "      <td>0.144688</td>\n",
       "      <td>0.00000</td>\n",
       "      <td>0.250000</td>\n",
       "      <td>0.3100</td>\n",
       "      <td>0.3900</td>\n",
       "      <td>1.00000</td>\n",
       "    </tr>\n",
       "    <tr>\n",
       "      <th>residual sugar</th>\n",
       "      <td>3155.0</td>\n",
       "      <td>5.098843</td>\n",
       "      <td>4.593092</td>\n",
       "      <td>0.60000</td>\n",
       "      <td>1.800000</td>\n",
       "      <td>2.7000</td>\n",
       "      <td>7.5000</td>\n",
       "      <td>65.80000</td>\n",
       "    </tr>\n",
       "    <tr>\n",
       "      <th>chlorides</th>\n",
       "      <td>3155.0</td>\n",
       "      <td>0.056129</td>\n",
       "      <td>0.033415</td>\n",
       "      <td>0.00900</td>\n",
       "      <td>0.038000</td>\n",
       "      <td>0.0470</td>\n",
       "      <td>0.0660</td>\n",
       "      <td>0.42200</td>\n",
       "    </tr>\n",
       "    <tr>\n",
       "      <th>free sulfur dioxide</th>\n",
       "      <td>3155.0</td>\n",
       "      <td>30.128843</td>\n",
       "      <td>17.226211</td>\n",
       "      <td>1.00000</td>\n",
       "      <td>17.000000</td>\n",
       "      <td>28.0000</td>\n",
       "      <td>41.0000</td>\n",
       "      <td>131.00000</td>\n",
       "    </tr>\n",
       "    <tr>\n",
       "      <th>total sulfur dioxide</th>\n",
       "      <td>3155.0</td>\n",
       "      <td>113.883201</td>\n",
       "      <td>56.400299</td>\n",
       "      <td>6.00000</td>\n",
       "      <td>75.000000</td>\n",
       "      <td>116.0000</td>\n",
       "      <td>152.5000</td>\n",
       "      <td>344.00000</td>\n",
       "    </tr>\n",
       "    <tr>\n",
       "      <th>density</th>\n",
       "      <td>3155.0</td>\n",
       "      <td>0.994541</td>\n",
       "      <td>0.002979</td>\n",
       "      <td>0.98711</td>\n",
       "      <td>0.992255</td>\n",
       "      <td>0.9947</td>\n",
       "      <td>0.9967</td>\n",
       "      <td>1.03898</td>\n",
       "    </tr>\n",
       "    <tr>\n",
       "      <th>pH</th>\n",
       "      <td>3155.0</td>\n",
       "      <td>3.223005</td>\n",
       "      <td>0.156575</td>\n",
       "      <td>2.72000</td>\n",
       "      <td>3.120000</td>\n",
       "      <td>3.2100</td>\n",
       "      <td>3.3200</td>\n",
       "      <td>4.01000</td>\n",
       "    </tr>\n",
       "    <tr>\n",
       "      <th>sulphates</th>\n",
       "      <td>3155.0</td>\n",
       "      <td>0.534070</td>\n",
       "      <td>0.146009</td>\n",
       "      <td>0.23000</td>\n",
       "      <td>0.440000</td>\n",
       "      <td>0.5100</td>\n",
       "      <td>0.6000</td>\n",
       "      <td>1.98000</td>\n",
       "    </tr>\n",
       "    <tr>\n",
       "      <th>alcohol</th>\n",
       "      <td>3155.0</td>\n",
       "      <td>10.538674</td>\n",
       "      <td>1.163074</td>\n",
       "      <td>8.00000</td>\n",
       "      <td>9.500000</td>\n",
       "      <td>10.4000</td>\n",
       "      <td>11.3000</td>\n",
       "      <td>14.20000</td>\n",
       "    </tr>\n",
       "  </tbody>\n",
       "</table>\n",
       "</div>"
      ],
      "text/plain": [
       "                       count        mean        std      min        25%  \\\n",
       "fixed acidity         3155.0    7.200048   1.316837  3.80000   6.400000   \n",
       "volatile acidity      3155.0    0.339468   0.162496  0.08500   0.230000   \n",
       "citric acid           3155.0    0.317632   0.144688  0.00000   0.250000   \n",
       "residual sugar        3155.0    5.098843   4.593092  0.60000   1.800000   \n",
       "chlorides             3155.0    0.056129   0.033415  0.00900   0.038000   \n",
       "free sulfur dioxide   3155.0   30.128843  17.226211  1.00000  17.000000   \n",
       "total sulfur dioxide  3155.0  113.883201  56.400299  6.00000  75.000000   \n",
       "density               3155.0    0.994541   0.002979  0.98711   0.992255   \n",
       "pH                    3155.0    3.223005   0.156575  2.72000   3.120000   \n",
       "sulphates             3155.0    0.534070   0.146009  0.23000   0.440000   \n",
       "alcohol               3155.0   10.538674   1.163074  8.00000   9.500000   \n",
       "\n",
       "                           50%       75%        max  \n",
       "fixed acidity           6.9000    7.7000   15.60000  \n",
       "volatile acidity        0.2900    0.4000    1.33000  \n",
       "citric acid             0.3100    0.3900    1.00000  \n",
       "residual sugar          2.7000    7.5000   65.80000  \n",
       "chlorides               0.0470    0.0660    0.42200  \n",
       "free sulfur dioxide    28.0000   41.0000  131.00000  \n",
       "total sulfur dioxide  116.0000  152.5000  344.00000  \n",
       "density                 0.9947    0.9967    1.03898  \n",
       "pH                      3.2100    3.3200    4.01000  \n",
       "sulphates               0.5100    0.6000    1.98000  \n",
       "alcohol                10.4000   11.3000   14.20000  "
      ]
     },
     "execution_count": 41,
     "metadata": {},
     "output_type": "execute_result"
    }
   ],
   "source": [
    "train_stats"
   ]
  },
  {
   "cell_type": "markdown",
   "metadata": {
    "colab_type": "text",
    "id": "bGPvt9jir_HC"
   },
   "source": [
    "### Get the labels (TODO)\n",
    "\n",
    "The features and labels are currently in the same dataframe.\n",
    "- You will want to store the label columns `is_red` and `quality` separately from the feature columns.  \n",
    "- The following function, `format_output`, gets these two columns from the dataframe (it's given to you).\n",
    "- `format_output` also formats the data into numpy arrays. \n",
    "- Please use the `format_output` and apply it to the `train`, `val` and `test` sets to get dataframes for the labels."
   ]
  },
  {
   "cell_type": "code",
   "execution_count": 42,
   "metadata": {
    "colab": {},
    "colab_type": "code",
    "id": "Z_fs14XQqZVP"
   },
   "outputs": [],
   "source": [
    "def format_output(data):\n",
    "    is_red = data.pop('is_red')\n",
    "    is_red = np.array(is_red)\n",
    "    quality = data.pop('quality')\n",
    "    quality = np.array(quality)\n",
    "    return (quality, is_red)"
   ]
  },
  {
   "cell_type": "code",
   "execution_count": 43,
   "metadata": {
    "colab": {},
    "colab_type": "code",
    "deletable": false,
    "id": "8L3ZZe1fQicm",
    "nbgrader": {
     "cell_type": "code",
     "checksum": "7a86809e54895a816434c48dc903f55d",
     "grade": false,
     "grade_id": "cell-5c30fa2c2a354b0f",
     "locked": false,
     "schema_version": 3,
     "solution": true,
     "task": false
    }
   },
   "outputs": [],
   "source": [
    "## Please uncomment all lines in this cell and replace those marked with `# YOUR CODE HERE`.\n",
    "## You can select all lines in this code cell with Ctrl+A (Windows/Linux) or Cmd+A (Mac), then press Ctrl+/ (Windows/Linux) or Cmd+/ (Mac) to uncomment.\n",
    "\n",
    "\n",
    "\n",
    "# # format the output of the train set\n",
    "train_Y = format_output(train)\n",
    "\n",
    "# # format the output of the val set\n",
    "val_Y = format_output(val)\n",
    "    \n",
    "# # format the output of the test set\n",
    "test_Y = format_output(test)"
   ]
  },
  {
   "cell_type": "code",
   "execution_count": 44,
   "metadata": {
    "deletable": false,
    "editable": false,
    "nbgrader": {
     "cell_type": "code",
     "checksum": "359cabbafaed14ec9bbc1e57a7b6f32c",
     "grade": true,
     "grade_id": "cell-4977d8befb80f56b",
     "locked": true,
     "points": 1,
     "schema_version": 3,
     "solution": false,
     "task": false
    }
   },
   "outputs": [
    {
     "name": "stdout",
     "output_type": "stream",
     "text": [
      "\u001b[92m All public tests passed\n"
     ]
    }
   ],
   "source": [
    "utils.test_format_output(df, train_Y, val_Y, test_Y)"
   ]
  },
  {
   "cell_type": "markdown",
   "metadata": {},
   "source": [
    "Notice that after you get the labels, the `train`, `val` and `test` dataframes no longer contain the label columns, and contain just the feature columns.\n",
    "- This is because you used `.pop` in the `format_output` function."
   ]
  },
  {
   "cell_type": "code",
   "execution_count": 45,
   "metadata": {},
   "outputs": [
    {
     "data": {
      "text/html": [
       "<div>\n",
       "<style scoped>\n",
       "    .dataframe tbody tr th:only-of-type {\n",
       "        vertical-align: middle;\n",
       "    }\n",
       "\n",
       "    .dataframe tbody tr th {\n",
       "        vertical-align: top;\n",
       "    }\n",
       "\n",
       "    .dataframe thead th {\n",
       "        text-align: right;\n",
       "    }\n",
       "</style>\n",
       "<table border=\"1\" class=\"dataframe\">\n",
       "  <thead>\n",
       "    <tr style=\"text-align: right;\">\n",
       "      <th></th>\n",
       "      <th>fixed acidity</th>\n",
       "      <th>volatile acidity</th>\n",
       "      <th>citric acid</th>\n",
       "      <th>residual sugar</th>\n",
       "      <th>chlorides</th>\n",
       "      <th>free sulfur dioxide</th>\n",
       "      <th>total sulfur dioxide</th>\n",
       "      <th>density</th>\n",
       "      <th>pH</th>\n",
       "      <th>sulphates</th>\n",
       "      <th>alcohol</th>\n",
       "    </tr>\n",
       "  </thead>\n",
       "  <tbody>\n",
       "    <tr>\n",
       "      <th>225</th>\n",
       "      <td>6.7</td>\n",
       "      <td>0.855</td>\n",
       "      <td>0.02</td>\n",
       "      <td>1.9</td>\n",
       "      <td>0.064</td>\n",
       "      <td>29.0</td>\n",
       "      <td>38.0</td>\n",
       "      <td>0.99472</td>\n",
       "      <td>3.30</td>\n",
       "      <td>0.56</td>\n",
       "      <td>10.75</td>\n",
       "    </tr>\n",
       "    <tr>\n",
       "      <th>3557</th>\n",
       "      <td>8.0</td>\n",
       "      <td>0.340</td>\n",
       "      <td>0.25</td>\n",
       "      <td>6.4</td>\n",
       "      <td>0.035</td>\n",
       "      <td>38.0</td>\n",
       "      <td>103.0</td>\n",
       "      <td>0.99148</td>\n",
       "      <td>2.91</td>\n",
       "      <td>0.23</td>\n",
       "      <td>12.20</td>\n",
       "    </tr>\n",
       "    <tr>\n",
       "      <th>3825</th>\n",
       "      <td>7.5</td>\n",
       "      <td>0.230</td>\n",
       "      <td>0.68</td>\n",
       "      <td>11.0</td>\n",
       "      <td>0.047</td>\n",
       "      <td>37.0</td>\n",
       "      <td>133.0</td>\n",
       "      <td>0.99780</td>\n",
       "      <td>2.99</td>\n",
       "      <td>0.38</td>\n",
       "      <td>8.80</td>\n",
       "    </tr>\n",
       "    <tr>\n",
       "      <th>1740</th>\n",
       "      <td>6.0</td>\n",
       "      <td>0.260</td>\n",
       "      <td>0.18</td>\n",
       "      <td>7.0</td>\n",
       "      <td>0.055</td>\n",
       "      <td>50.0</td>\n",
       "      <td>194.0</td>\n",
       "      <td>0.99591</td>\n",
       "      <td>3.21</td>\n",
       "      <td>0.43</td>\n",
       "      <td>9.00</td>\n",
       "    </tr>\n",
       "    <tr>\n",
       "      <th>1221</th>\n",
       "      <td>6.6</td>\n",
       "      <td>0.250</td>\n",
       "      <td>0.29</td>\n",
       "      <td>1.1</td>\n",
       "      <td>0.068</td>\n",
       "      <td>39.0</td>\n",
       "      <td>124.0</td>\n",
       "      <td>0.99140</td>\n",
       "      <td>3.34</td>\n",
       "      <td>0.58</td>\n",
       "      <td>11.00</td>\n",
       "    </tr>\n",
       "  </tbody>\n",
       "</table>\n",
       "</div>"
      ],
      "text/plain": [
       "      fixed acidity  volatile acidity  citric acid  residual sugar  chlorides  \\\n",
       "225             6.7             0.855         0.02             1.9      0.064   \n",
       "3557            8.0             0.340         0.25             6.4      0.035   \n",
       "3825            7.5             0.230         0.68            11.0      0.047   \n",
       "1740            6.0             0.260         0.18             7.0      0.055   \n",
       "1221            6.6             0.250         0.29             1.1      0.068   \n",
       "\n",
       "      free sulfur dioxide  total sulfur dioxide  density    pH  sulphates  \\\n",
       "225                  29.0                  38.0  0.99472  3.30       0.56   \n",
       "3557                 38.0                 103.0  0.99148  2.91       0.23   \n",
       "3825                 37.0                 133.0  0.99780  2.99       0.38   \n",
       "1740                 50.0                 194.0  0.99591  3.21       0.43   \n",
       "1221                 39.0                 124.0  0.99140  3.34       0.58   \n",
       "\n",
       "      alcohol  \n",
       "225     10.75  \n",
       "3557    12.20  \n",
       "3825     8.80  \n",
       "1740     9.00  \n",
       "1221    11.00  "
      ]
     },
     "execution_count": 45,
     "metadata": {},
     "output_type": "execute_result"
    }
   ],
   "source": [
    "train.head()"
   ]
  },
  {
   "cell_type": "markdown",
   "metadata": {
    "colab_type": "text",
    "id": "hEdbrruAsN1D"
   },
   "source": [
    "### Normalize the data (TODO)\n",
    "\n",
    "Next, you can normalize the data, x, using the formula:\n",
    "$$x_{norm} = \\frac{x - \\mu}{\\sigma}$$\n",
    "- The `norm` function is defined for you.\n",
    "- Please apply the `norm` function to normalize the dataframes that contains the feature columns of `train`, `val` and `test` sets."
   ]
  },
  {
   "cell_type": "code",
   "execution_count": 46,
   "metadata": {
    "colab": {},
    "colab_type": "code",
    "id": "WWiZPAHCLjUs"
   },
   "outputs": [],
   "source": [
    "def norm(x):\n",
    "    return (x - train_stats['mean']) / train_stats['std']"
   ]
  },
  {
   "cell_type": "code",
   "execution_count": 47,
   "metadata": {
    "colab": {},
    "colab_type": "code",
    "deletable": false,
    "id": "JEaOi2I2Lk69",
    "nbgrader": {
     "cell_type": "code",
     "checksum": "6bc0cdcb563d192f271067aa3373ff32",
     "grade": false,
     "grade_id": "cell-d8416d975c371095",
     "locked": false,
     "schema_version": 3,
     "solution": true,
     "task": false
    }
   },
   "outputs": [],
   "source": [
    "## Please uncomment all lines in this cell and replace those marked with `# YOUR CODE HERE`.\n",
    "## You can select all lines in this code cell with Ctrl+A (Windows/Linux) or Cmd+A (Mac), then press Ctrl+/ (Windows/Linux) or Cmd+/ (Mac) to uncomment.\n",
    "\n",
    "\n",
    "\n",
    "# # normalize the train set\n",
    "norm_train_X = norm(train)\n",
    "    \n",
    "# # normalize the val set\n",
    "norm_val_X = norm(val)\n",
    "    \n",
    "# # normalize the test set\n",
    "norm_test_X = norm(test)"
   ]
  },
  {
   "cell_type": "code",
   "execution_count": 48,
   "metadata": {
    "deletable": false,
    "editable": false,
    "nbgrader": {
     "cell_type": "code",
     "checksum": "4f567db45bf40191601780379cc100b8",
     "grade": true,
     "grade_id": "cell-97fad979d157529b",
     "locked": true,
     "points": 1,
     "schema_version": 3,
     "solution": false,
     "task": false
    }
   },
   "outputs": [
    {
     "name": "stdout",
     "output_type": "stream",
     "text": [
      "\u001b[92m All public tests passed\n"
     ]
    }
   ],
   "source": [
    "utils.test_norm(norm_train_X, norm_val_X, norm_test_X, train, val, test)\n"
   ]
  },
  {
   "cell_type": "markdown",
   "metadata": {
    "colab_type": "text",
    "id": "hzykDwQhsaPO"
   },
   "source": [
    "## Define the Model (TODO)\n",
    "\n",
    "Define the model using the functional API. The base model will be 2 `Dense` layers of 128 neurons each, and have the `'relu'` activation.\n",
    "- Check out the documentation for [tf.keras.layers.Dense](https://www.tensorflow.org/api_docs/python/tf/keras/layers/Dense)"
   ]
  },
  {
   "cell_type": "code",
   "execution_count": 49,
   "metadata": {
    "colab": {},
    "colab_type": "code",
    "deletable": false,
    "id": "Rhcns3oTFkM6",
    "nbgrader": {
     "cell_type": "code",
     "checksum": "74b031247e569526552bf13a034a1c07",
     "grade": false,
     "grade_id": "cell-73fceedad1fe351c",
     "locked": false,
     "schema_version": 3,
     "solution": true,
     "task": false
    }
   },
   "outputs": [],
   "source": [
    "## Please uncomment all lines in this cell and replace those marked with `# YOUR CODE HERE`.\n",
    "## You can select all lines in this code cell with Ctrl+A (Windows/Linux) or Cmd+A (Mac), then press Ctrl+/ (Windows/Linux) or Cmd+/ (Mac) to uncomment.\n",
    "\n",
    "\n",
    "\n",
    "def base_model(inputs):\n",
    "    #connect a Dense layer with 128 neurons and a relu activation\n",
    "    x = tf.keras.layers.Dense(128, activation=tf.nn.relu)(inputs)\n",
    "\n",
    "    #connect another Dense layer with 128 neurons and a relu activation\n",
    "    x = tf.keras.layers.Dense(128, activation=tf.nn.relu)(x)\n",
    "    return x\n",
    "  "
   ]
  },
  {
   "cell_type": "code",
   "execution_count": 50,
   "metadata": {
    "deletable": false,
    "editable": false,
    "nbgrader": {
     "cell_type": "code",
     "checksum": "9255924b3def80f679616e4c851a43e1",
     "grade": true,
     "grade_id": "cell-54f742a133353d75",
     "locked": true,
     "points": 1,
     "schema_version": 3,
     "solution": false,
     "task": false
    }
   },
   "outputs": [
    {
     "name": "stdout",
     "output_type": "stream",
     "text": [
      "\u001b[92m All public tests passed\n"
     ]
    }
   ],
   "source": [
    "utils.test_base_model(base_model)"
   ]
  },
  {
   "cell_type": "markdown",
   "metadata": {
    "colab_type": "text",
    "id": "xem_fcVws6Kz"
   },
   "source": [
    "# Define output layers of the model (TODO)\n",
    "\n",
    "You will add output layers to the base model. \n",
    "- The model will need two outputs.\n",
    "\n",
    "One output layer will predict wine quality, which is a numeric value.\n",
    "- Define a `Dense` layer with 1 neuron.\n",
    "- Since this is a regression output, the activation can be left as its default value `None`.\n",
    "\n",
    "The other output layer will predict the wine type, which is either red `1` or not red `0` (white).\n",
    "- Define a `Dense` layer with 1 neuron.\n",
    "- Since there are two possible categories, you can use a sigmoid activation for binary classification.\n",
    "\n",
    "Define the `Model`\n",
    "- Define the `Model` object, and set the following parameters:\n",
    "  - `inputs`: pass in the inputs to the model as a list.\n",
    "  - `outputs`: pass in a list of the outputs that you just defined: wine quality, then wine type.\n",
    "  - **Note**: please list the wine quality before wine type in the outputs, as this will affect the calculated loss if you choose the other order."
   ]
  },
  {
   "cell_type": "code",
   "execution_count": 51,
   "metadata": {
    "colab": {},
    "colab_type": "code",
    "deletable": false,
    "id": "n5UGF8PMVLPt",
    "nbgrader": {
     "cell_type": "code",
     "checksum": "76d35b90d20cdcbb22986cd8211057de",
     "grade": false,
     "grade_id": "cell-19e285f482f021fb",
     "locked": false,
     "schema_version": 3,
     "solution": true,
     "task": false
    }
   },
   "outputs": [],
   "source": [
    "## Please uncomment all lines in this cell and replace those marked with `# YOUR CODE HERE`.\n",
    "## You can select all lines in this code cell with Ctrl+A (Windows/Linux) or Cmd+A (Mac), then press Ctrl+/ (Windows/Linux) or Cmd+/ (Mac) to uncomment.\n",
    "\n",
    "\n",
    "\n",
    "def final_model(inputs):\n",
    "    \n",
    "#     # get the base model\n",
    "     x = base_model(inputs)\n",
    "\n",
    "#     # connect the output Dense layer for regression\n",
    "     wine_quality = Dense(units='1', name='wine_quality')(x)\n",
    "\n",
    "#     # connect the output Dense layer for classification. this will use a sigmoid activation.\n",
    "     wine_type = Dense(units='1', activation= 'sigmoid', name='wine_type')(x)\n",
    "\n",
    "#     # define the model using the input and output layers\n",
    "     model = Model(inputs=[inputs], outputs=[wine_quality,wine_type])\n",
    "\n",
    "     return model"
   ]
  },
  {
   "cell_type": "code",
   "execution_count": 52,
   "metadata": {
    "deletable": false,
    "editable": false,
    "nbgrader": {
     "cell_type": "code",
     "checksum": "89cbf89d8ab5e2e59ecf7f63f517520a",
     "grade": true,
     "grade_id": "cell-40d050f855c817d1",
     "locked": true,
     "points": 1,
     "schema_version": 3,
     "solution": false,
     "task": false
    }
   },
   "outputs": [
    {
     "name": "stdout",
     "output_type": "stream",
     "text": [
      "\u001b[92m All public tests passed\n"
     ]
    }
   ],
   "source": [
    "utils.test_final_model(final_model)"
   ]
  },
  {
   "cell_type": "markdown",
   "metadata": {
    "colab_type": "text",
    "id": "5R0BMTsltZyu"
   },
   "source": [
    "## Compiling the Model\n",
    "\n",
    "Next, compile the model. When setting the loss parameter of `model.compile`, you're setting the loss for each of the two outputs (wine quality and wine type).\n",
    "\n",
    "To set more than one loss, use a dictionary of key-value pairs.\n",
    "- You can look at the docs for the losses [here](https://www.tensorflow.org/api_docs/python/tf/keras/losses#functions).\n",
    "    - **Note**: For the desired spelling, please look at the \"Functions\" section of the documentation and not the \"classes\" section on that same page.\n",
    "- wine_type: Since you will be performing binary classification on wine type, you should use the binary crossentropy loss function for it.  Please pass this in as a string.  \n",
    "  - **Hint**, this should be all lowercase.  In the documentation, you'll see this under the \"Functions\" section, not the \"Classes\" section.\n",
    "- wine_quality: since this is a regression output, use the mean squared error.  Please pass it in as a string, all lowercase.\n",
    "  - **Hint**: You may notice that there are two aliases for mean squared error.  Please use the shorter name.\n",
    "\n",
    "\n",
    "You will also set the metric for each of the two outputs.  Again, to set metrics for two or more outputs, use a dictionary with key value pairs.\n",
    "- The metrics documentation is linked [here](https://www.tensorflow.org/api_docs/python/tf/keras/metrics).\n",
    "- For the wine type, please set it to accuracy as a string, all lowercase.\n",
    "- For wine quality, please use the root mean squared error.  Instead of a string, you'll set it to an instance of the class [RootMeanSquaredError](https://www.tensorflow.org/api_docs/python/tf/keras/metrics/RootMeanSquaredError), which belongs to the tf.keras.metrics module.\n",
    "\n",
    "**Note**: If you see the error message \n",
    ">Exception: wine quality loss function is incorrect.\n",
    "\n",
    "- Please also check your other losses and metrics, as the error may be caused by the other three key-value pairs and not the wine quality loss."
   ]
  },
  {
   "cell_type": "code",
   "execution_count": 53,
   "metadata": {
    "colab": {},
    "colab_type": "code",
    "deletable": false,
    "id": "LK11duUbUjmh",
    "nbgrader": {
     "cell_type": "code",
     "checksum": "22f45067ca69eb2ccadb43874dbcc27b",
     "grade": false,
     "grade_id": "cell-81afdc4dcca51d5e",
     "locked": false,
     "schema_version": 3,
     "solution": true,
     "task": false
    }
   },
   "outputs": [],
   "source": [
    "## Please uncomment all lines in this cell and replace those marked with `# YOUR CODE HERE`.\n",
    "## You can select all lines in this code cell with Ctrl+A (Windows/Linux) or Cmd+A (Mac), then press Ctrl+/ (Windows/Linux) or Cmd+/ (Mac) to uncomment.\n",
    "\n",
    "\n",
    "\n",
    "inputs = tf.keras.layers.Input(shape=(11,))\n",
    "rms = tf.keras.optimizers.RMSprop(lr=0.0001)\n",
    "model = final_model(inputs)\n",
    "\n",
    "model.compile(optimizer=rms, \n",
    "              loss = {'wine_type' : 'binary_crossentropy',\n",
    "                      'wine_quality' : 'mse'\n",
    "                     },\n",
    "              metrics = {'wine_type' : 'accuracy',\n",
    "                         'wine_quality': tf.keras.metrics.RootMeanSquaredError(), \n",
    "                       }\n",
    "             )"
   ]
  },
  {
   "cell_type": "code",
   "execution_count": 54,
   "metadata": {
    "deletable": false,
    "editable": false,
    "nbgrader": {
     "cell_type": "code",
     "checksum": "88e02238ea5e456ff65e835cc8158054",
     "grade": true,
     "grade_id": "cell-2eeeba02391c4632",
     "locked": true,
     "points": 1,
     "schema_version": 3,
     "solution": false,
     "task": false
    }
   },
   "outputs": [
    {
     "name": "stdout",
     "output_type": "stream",
     "text": [
      "\u001b[92m All public tests passed\n"
     ]
    }
   ],
   "source": [
    "utils.test_model_compile(model)"
   ]
  },
  {
   "cell_type": "markdown",
   "metadata": {
    "colab_type": "text",
    "id": "90MpAMpWuKm-"
   },
   "source": [
    "## Training the Model\n",
    "\n",
    "Fit the model to the training inputs and outputs. \n",
    "- Check the documentation for [model.fit](https://www.tensorflow.org/api_docs/python/tf/keras/Model#fit).\n",
    "- Remember to use the normalized training set as inputs. \n",
    "- For the validation data, please use the normalized validation set."
   ]
  },
  {
   "cell_type": "code",
   "execution_count": 55,
   "metadata": {
    "colab": {},
    "colab_type": "code",
    "deletable": false,
    "id": "_eiZkle4XwiY",
    "nbgrader": {
     "cell_type": "code",
     "checksum": "2ca7664be03bfd6fd3651ae44d17b793",
     "grade": false,
     "grade_id": "cell-0bb56262896f6680",
     "locked": false,
     "schema_version": 3,
     "solution": true,
     "task": false
    }
   },
   "outputs": [
    {
     "name": "stdout",
     "output_type": "stream",
     "text": [
      "Train on 3155 samples, validate on 987 samples\n",
      "Epoch 1/180\n",
      "3155/3155 [==============================] - 1s 379us/sample - loss: 23.5559 - wine_quality_loss: 22.8623 - wine_type_loss: 0.6568 - wine_quality_root_mean_squared_error: 4.7853 - wine_type_accuracy: 0.7179 - val_loss: 16.0271 - val_wine_quality_loss: 15.3833 - val_wine_type_loss: 0.6371 - val_wine_quality_root_mean_squared_error: 3.9230 - val_wine_type_accuracy: 0.7335\n",
      "Epoch 2/180\n",
      "3155/3155 [==============================] - 0s 103us/sample - loss: 11.0386 - wine_quality_loss: 10.4170 - wine_type_loss: 0.6003 - wine_quality_root_mean_squared_error: 3.2308 - wine_type_accuracy: 0.7429 - val_loss: 7.0862 - val_wine_quality_loss: 6.5243 - val_wine_type_loss: 0.5605 - val_wine_quality_root_mean_squared_error: 2.5545 - val_wine_type_accuracy: 0.7386\n",
      "Epoch 3/180\n",
      "3155/3155 [==============================] - 0s 98us/sample - loss: 4.8290 - wine_quality_loss: 4.3204 - wine_type_loss: 0.5023 - wine_quality_root_mean_squared_error: 2.0800 - wine_type_accuracy: 0.7670 - val_loss: 3.5465 - val_wine_quality_loss: 3.1083 - val_wine_type_loss: 0.4489 - val_wine_quality_root_mean_squared_error: 1.7599 - val_wine_type_accuracy: 0.8419\n",
      "Epoch 4/180\n",
      "3155/3155 [==============================] - 0s 98us/sample - loss: 2.9839 - wine_quality_loss: 2.5857 - wine_type_loss: 0.3949 - wine_quality_root_mean_squared_error: 1.6089 - wine_type_accuracy: 0.9109 - val_loss: 2.7100 - val_wine_quality_loss: 2.3774 - val_wine_type_loss: 0.3477 - val_wine_quality_root_mean_squared_error: 1.5369 - val_wine_type_accuracy: 0.9362\n",
      "Epoch 5/180\n",
      "3155/3155 [==============================] - 0s 111us/sample - loss: 2.4608 - wine_quality_loss: 2.1510 - wine_type_loss: 0.3050 - wine_quality_root_mean_squared_error: 1.4682 - wine_type_accuracy: 0.9642 - val_loss: 2.2679 - val_wine_quality_loss: 2.0137 - val_wine_type_loss: 0.2695 - val_wine_quality_root_mean_squared_error: 1.4135 - val_wine_type_accuracy: 0.9666\n",
      "Epoch 6/180\n",
      "3155/3155 [==============================] - 0s 99us/sample - loss: 2.1124 - wine_quality_loss: 1.8740 - wine_type_loss: 0.2378 - wine_quality_root_mean_squared_error: 1.3690 - wine_type_accuracy: 0.9791 - val_loss: 1.9552 - val_wine_quality_loss: 1.7608 - val_wine_type_loss: 0.2100 - val_wine_quality_root_mean_squared_error: 1.3210 - val_wine_type_accuracy: 0.9797\n",
      "Epoch 7/180\n",
      "3155/3155 [==============================] - 0s 92us/sample - loss: 1.8519 - wine_quality_loss: 1.6639 - wine_type_loss: 0.1864 - wine_quality_root_mean_squared_error: 1.2904 - wine_type_accuracy: 0.9835 - val_loss: 1.7360 - val_wine_quality_loss: 1.5848 - val_wine_type_loss: 0.1659 - val_wine_quality_root_mean_squared_error: 1.2530 - val_wine_type_accuracy: 0.9848\n",
      "Epoch 8/180\n",
      "3155/3155 [==============================] - 0s 99us/sample - loss: 1.6467 - wine_quality_loss: 1.4947 - wine_type_loss: 0.1492 - wine_quality_root_mean_squared_error: 1.2236 - wine_type_accuracy: 0.9857 - val_loss: 1.5583 - val_wine_quality_loss: 1.4385 - val_wine_type_loss: 0.1340 - val_wine_quality_root_mean_squared_error: 1.1934 - val_wine_type_accuracy: 0.9848\n",
      "Epoch 9/180\n",
      "3155/3155 [==============================] - 0s 93us/sample - loss: 1.4913 - wine_quality_loss: 1.3681 - wine_type_loss: 0.1224 - wine_quality_root_mean_squared_error: 1.1700 - wine_type_accuracy: 0.9867 - val_loss: 1.4426 - val_wine_quality_loss: 1.3467 - val_wine_type_loss: 0.1104 - val_wine_quality_root_mean_squared_error: 1.1541 - val_wine_type_accuracy: 0.9848\n",
      "Epoch 10/180\n",
      "3155/3155 [==============================] - 0s 76us/sample - loss: 1.3624 - wine_quality_loss: 1.2588 - wine_type_loss: 0.1025 - wine_quality_root_mean_squared_error: 1.1224 - wine_type_accuracy: 0.9870 - val_loss: 1.3171 - val_wine_quality_loss: 1.2376 - val_wine_type_loss: 0.0929 - val_wine_quality_root_mean_squared_error: 1.1064 - val_wine_type_accuracy: 0.9858\n",
      "Epoch 11/180\n",
      "3155/3155 [==============================] - 0s 92us/sample - loss: 1.2502 - wine_quality_loss: 1.1627 - wine_type_loss: 0.0874 - wine_quality_root_mean_squared_error: 1.0783 - wine_type_accuracy: 0.9880 - val_loss: 1.2233 - val_wine_quality_loss: 1.1555 - val_wine_type_loss: 0.0804 - val_wine_quality_root_mean_squared_error: 1.0690 - val_wine_type_accuracy: 0.9858\n",
      "Epoch 12/180\n",
      "3155/3155 [==============================] - 0s 90us/sample - loss: 1.1518 - wine_quality_loss: 1.0741 - wine_type_loss: 0.0766 - wine_quality_root_mean_squared_error: 1.0369 - wine_type_accuracy: 0.9889 - val_loss: 1.1587 - val_wine_quality_loss: 1.0992 - val_wine_type_loss: 0.0716 - val_wine_quality_root_mean_squared_error: 1.0426 - val_wine_type_accuracy: 0.9878\n",
      "Epoch 13/180\n",
      "3155/3155 [==============================] - 0s 90us/sample - loss: 1.0756 - wine_quality_loss: 1.0067 - wine_type_loss: 0.0685 - wine_quality_root_mean_squared_error: 1.0035 - wine_type_accuracy: 0.9892 - val_loss: 1.0799 - val_wine_quality_loss: 1.0270 - val_wine_type_loss: 0.0645 - val_wine_quality_root_mean_squared_error: 1.0076 - val_wine_type_accuracy: 0.9889\n",
      "Epoch 14/180\n",
      "3155/3155 [==============================] - 0s 76us/sample - loss: 1.0007 - wine_quality_loss: 0.9370 - wine_type_loss: 0.0628 - wine_quality_root_mean_squared_error: 0.9686 - wine_type_accuracy: 0.9899 - val_loss: 1.0302 - val_wine_quality_loss: 0.9815 - val_wine_type_loss: 0.0594 - val_wine_quality_root_mean_squared_error: 0.9852 - val_wine_type_accuracy: 0.9889\n",
      "Epoch 15/180\n",
      "3155/3155 [==============================] - 0s 76us/sample - loss: 0.9386 - wine_quality_loss: 0.8807 - wine_type_loss: 0.0578 - wine_quality_root_mean_squared_error: 0.9386 - wine_type_accuracy: 0.9908 - val_loss: 0.9668 - val_wine_quality_loss: 0.9226 - val_wine_type_loss: 0.0543 - val_wine_quality_root_mean_squared_error: 0.9552 - val_wine_type_accuracy: 0.9899\n",
      "Epoch 16/180\n",
      "3155/3155 [==============================] - 0s 89us/sample - loss: 0.8760 - wine_quality_loss: 0.8230 - wine_type_loss: 0.0536 - wine_quality_root_mean_squared_error: 0.9068 - wine_type_accuracy: 0.9908 - val_loss: 0.9111 - val_wine_quality_loss: 0.8700 - val_wine_type_loss: 0.0507 - val_wine_quality_root_mean_squared_error: 0.9275 - val_wine_type_accuracy: 0.9899\n",
      "Epoch 17/180\n",
      "3155/3155 [==============================] - 0s 91us/sample - loss: 0.8205 - wine_quality_loss: 0.7692 - wine_type_loss: 0.0506 - wine_quality_root_mean_squared_error: 0.8774 - wine_type_accuracy: 0.9905 - val_loss: 0.8918 - val_wine_quality_loss: 0.8522 - val_wine_type_loss: 0.0486 - val_wine_quality_root_mean_squared_error: 0.9182 - val_wine_type_accuracy: 0.9899\n",
      "Epoch 18/180\n",
      "3155/3155 [==============================] - 0s 76us/sample - loss: 0.7755 - wine_quality_loss: 0.7262 - wine_type_loss: 0.0481 - wine_quality_root_mean_squared_error: 0.8529 - wine_type_accuracy: 0.9911 - val_loss: 0.8287 - val_wine_quality_loss: 0.7907 - val_wine_type_loss: 0.0466 - val_wine_quality_root_mean_squared_error: 0.8843 - val_wine_type_accuracy: 0.9899\n",
      "Epoch 19/180\n",
      "3155/3155 [==============================] - 0s 92us/sample - loss: 0.7311 - wine_quality_loss: 0.6849 - wine_type_loss: 0.0458 - wine_quality_root_mean_squared_error: 0.8278 - wine_type_accuracy: 0.9914 - val_loss: 0.7864 - val_wine_quality_loss: 0.7502 - val_wine_type_loss: 0.0444 - val_wine_quality_root_mean_squared_error: 0.8613 - val_wine_type_accuracy: 0.9889\n",
      "Epoch 20/180\n",
      "3155/3155 [==============================] - 0s 92us/sample - loss: 0.6903 - wine_quality_loss: 0.6478 - wine_type_loss: 0.0440 - wine_quality_root_mean_squared_error: 0.8039 - wine_type_accuracy: 0.9914 - val_loss: 0.7476 - val_wine_quality_loss: 0.7127 - val_wine_type_loss: 0.0427 - val_wine_quality_root_mean_squared_error: 0.8395 - val_wine_type_accuracy: 0.9899\n",
      "Epoch 21/180\n",
      "3155/3155 [==============================] - 0s 91us/sample - loss: 0.6538 - wine_quality_loss: 0.6117 - wine_type_loss: 0.0426 - wine_quality_root_mean_squared_error: 0.7818 - wine_type_accuracy: 0.9921 - val_loss: 0.7066 - val_wine_quality_loss: 0.6724 - val_wine_type_loss: 0.0410 - val_wine_quality_root_mean_squared_error: 0.8158 - val_wine_type_accuracy: 0.9889\n",
      "Epoch 22/180\n",
      "3155/3155 [==============================] - 0s 89us/sample - loss: 0.6204 - wine_quality_loss: 0.5793 - wine_type_loss: 0.0412 - wine_quality_root_mean_squared_error: 0.7610 - wine_type_accuracy: 0.9924 - val_loss: 0.6776 - val_wine_quality_loss: 0.6440 - val_wine_type_loss: 0.0400 - val_wine_quality_root_mean_squared_error: 0.7984 - val_wine_type_accuracy: 0.9889\n",
      "Epoch 23/180\n",
      "3155/3155 [==============================] - 0s 79us/sample - loss: 0.5919 - wine_quality_loss: 0.5503 - wine_type_loss: 0.0400 - wine_quality_root_mean_squared_error: 0.7428 - wine_type_accuracy: 0.9921 - val_loss: 0.6630 - val_wine_quality_loss: 0.6300 - val_wine_type_loss: 0.0390 - val_wine_quality_root_mean_squared_error: 0.7899 - val_wine_type_accuracy: 0.9889\n",
      "Epoch 24/180\n",
      "3155/3155 [==============================] - 0s 92us/sample - loss: 0.5635 - wine_quality_loss: 0.5255 - wine_type_loss: 0.0390 - wine_quality_root_mean_squared_error: 0.7241 - wine_type_accuracy: 0.9927 - val_loss: 0.6440 - val_wine_quality_loss: 0.6113 - val_wine_type_loss: 0.0387 - val_wine_quality_root_mean_squared_error: 0.7780 - val_wine_type_accuracy: 0.9889\n",
      "Epoch 25/180\n",
      "3155/3155 [==============================] - 0s 90us/sample - loss: 0.5395 - wine_quality_loss: 0.5007 - wine_type_loss: 0.0380 - wine_quality_root_mean_squared_error: 0.7080 - wine_type_accuracy: 0.9927 - val_loss: 0.6115 - val_wine_quality_loss: 0.5790 - val_wine_type_loss: 0.0378 - val_wine_quality_root_mean_squared_error: 0.7574 - val_wine_type_accuracy: 0.9909\n",
      "Epoch 26/180\n",
      "3155/3155 [==============================] - 0s 88us/sample - loss: 0.5166 - wine_quality_loss: 0.4790 - wine_type_loss: 0.0376 - wine_quality_root_mean_squared_error: 0.6923 - wine_type_accuracy: 0.9927 - val_loss: 0.5894 - val_wine_quality_loss: 0.5574 - val_wine_type_loss: 0.0369 - val_wine_quality_root_mean_squared_error: 0.7432 - val_wine_type_accuracy: 0.9899\n",
      "Epoch 27/180\n",
      "3155/3155 [==============================] - 0s 77us/sample - loss: 0.4957 - wine_quality_loss: 0.4581 - wine_type_loss: 0.0365 - wine_quality_root_mean_squared_error: 0.6776 - wine_type_accuracy: 0.9933 - val_loss: 0.5752 - val_wine_quality_loss: 0.5432 - val_wine_type_loss: 0.0365 - val_wine_quality_root_mean_squared_error: 0.7339 - val_wine_type_accuracy: 0.9919\n",
      "Epoch 28/180\n",
      "3155/3155 [==============================] - 0s 92us/sample - loss: 0.4786 - wine_quality_loss: 0.4424 - wine_type_loss: 0.0358 - wine_quality_root_mean_squared_error: 0.6654 - wine_type_accuracy: 0.9933 - val_loss: 0.5497 - val_wine_quality_loss: 0.5174 - val_wine_type_loss: 0.0361 - val_wine_quality_root_mean_squared_error: 0.7165 - val_wine_type_accuracy: 0.9919\n",
      "Epoch 29/180\n",
      "3155/3155 [==============================] - 0s 94us/sample - loss: 0.4615 - wine_quality_loss: 0.4266 - wine_type_loss: 0.0351 - wine_quality_root_mean_squared_error: 0.6529 - wine_type_accuracy: 0.9933 - val_loss: 0.5325 - val_wine_quality_loss: 0.5007 - val_wine_type_loss: 0.0355 - val_wine_quality_root_mean_squared_error: 0.7049 - val_wine_type_accuracy: 0.9919\n",
      "Epoch 30/180\n",
      "3155/3155 [==============================] - 0s 91us/sample - loss: 0.4456 - wine_quality_loss: 0.4107 - wine_type_loss: 0.0346 - wine_quality_root_mean_squared_error: 0.6410 - wine_type_accuracy: 0.9937 - val_loss: 0.5200 - val_wine_quality_loss: 0.4885 - val_wine_type_loss: 0.0350 - val_wine_quality_root_mean_squared_error: 0.6963 - val_wine_type_accuracy: 0.9919\n",
      "Epoch 31/180\n",
      "3155/3155 [==============================] - 0s 98us/sample - loss: 0.4318 - wine_quality_loss: 0.3978 - wine_type_loss: 0.0342 - wine_quality_root_mean_squared_error: 0.6306 - wine_type_accuracy: 0.9937 - val_loss: 0.5255 - val_wine_quality_loss: 0.4943 - val_wine_type_loss: 0.0347 - val_wine_quality_root_mean_squared_error: 0.7004 - val_wine_type_accuracy: 0.9919\n",
      "Epoch 32/180\n",
      "3155/3155 [==============================] - 0s 98us/sample - loss: 0.4191 - wine_quality_loss: 0.3857 - wine_type_loss: 0.0336 - wine_quality_root_mean_squared_error: 0.6208 - wine_type_accuracy: 0.9937 - val_loss: 0.5425 - val_wine_quality_loss: 0.5114 - val_wine_type_loss: 0.0347 - val_wine_quality_root_mean_squared_error: 0.7126 - val_wine_type_accuracy: 0.9919\n",
      "Epoch 33/180\n",
      "3155/3155 [==============================] - 0s 90us/sample - loss: 0.4073 - wine_quality_loss: 0.3743 - wine_type_loss: 0.0331 - wine_quality_root_mean_squared_error: 0.6116 - wine_type_accuracy: 0.9940 - val_loss: 0.4846 - val_wine_quality_loss: 0.4536 - val_wine_type_loss: 0.0336 - val_wine_quality_root_mean_squared_error: 0.6714 - val_wine_type_accuracy: 0.9919\n",
      "Epoch 34/180\n",
      "3155/3155 [==============================] - 0s 73us/sample - loss: 0.3987 - wine_quality_loss: 0.3655 - wine_type_loss: 0.0328 - wine_quality_root_mean_squared_error: 0.6048 - wine_type_accuracy: 0.9933 - val_loss: 0.4940 - val_wine_quality_loss: 0.4631 - val_wine_type_loss: 0.0337 - val_wine_quality_root_mean_squared_error: 0.6784 - val_wine_type_accuracy: 0.9919\n",
      "Epoch 35/180\n",
      "3155/3155 [==============================] - 0s 92us/sample - loss: 0.3909 - wine_quality_loss: 0.3589 - wine_type_loss: 0.0324 - wine_quality_root_mean_squared_error: 0.5987 - wine_type_accuracy: 0.9937 - val_loss: 0.4682 - val_wine_quality_loss: 0.4373 - val_wine_type_loss: 0.0332 - val_wine_quality_root_mean_squared_error: 0.6595 - val_wine_type_accuracy: 0.9919\n",
      "Epoch 36/180\n",
      "3155/3155 [==============================] - 0s 94us/sample - loss: 0.3826 - wine_quality_loss: 0.3503 - wine_type_loss: 0.0319 - wine_quality_root_mean_squared_error: 0.5921 - wine_type_accuracy: 0.9937 - val_loss: 0.4810 - val_wine_quality_loss: 0.4504 - val_wine_type_loss: 0.0331 - val_wine_quality_root_mean_squared_error: 0.6692 - val_wine_type_accuracy: 0.9919\n",
      "Epoch 37/180\n",
      "3155/3155 [==============================] - 0s 98us/sample - loss: 0.3765 - wine_quality_loss: 0.3452 - wine_type_loss: 0.0323 - wine_quality_root_mean_squared_error: 0.5872 - wine_type_accuracy: 0.9940 - val_loss: 0.4509 - val_wine_quality_loss: 0.4200 - val_wine_type_loss: 0.0328 - val_wine_quality_root_mean_squared_error: 0.6465 - val_wine_type_accuracy: 0.9919\n",
      "Epoch 38/180\n",
      "3155/3155 [==============================] - 0s 90us/sample - loss: 0.3710 - wine_quality_loss: 0.3397 - wine_type_loss: 0.0313 - wine_quality_root_mean_squared_error: 0.5828 - wine_type_accuracy: 0.9937 - val_loss: 0.4589 - val_wine_quality_loss: 0.4281 - val_wine_type_loss: 0.0329 - val_wine_quality_root_mean_squared_error: 0.6526 - val_wine_type_accuracy: 0.9919\n",
      "Epoch 39/180\n",
      "3155/3155 [==============================] - 0s 93us/sample - loss: 0.3655 - wine_quality_loss: 0.3345 - wine_type_loss: 0.0310 - wine_quality_root_mean_squared_error: 0.5783 - wine_type_accuracy: 0.9940 - val_loss: 0.4460 - val_wine_quality_loss: 0.4154 - val_wine_type_loss: 0.0325 - val_wine_quality_root_mean_squared_error: 0.6430 - val_wine_type_accuracy: 0.9919\n",
      "Epoch 40/180\n",
      "3155/3155 [==============================] - 0s 90us/sample - loss: 0.3603 - wine_quality_loss: 0.3293 - wine_type_loss: 0.0306 - wine_quality_root_mean_squared_error: 0.5741 - wine_type_accuracy: 0.9940 - val_loss: 0.4428 - val_wine_quality_loss: 0.4122 - val_wine_type_loss: 0.0325 - val_wine_quality_root_mean_squared_error: 0.6405 - val_wine_type_accuracy: 0.9919\n",
      "Epoch 41/180\n",
      "3155/3155 [==============================] - 0s 91us/sample - loss: 0.3562 - wine_quality_loss: 0.3255 - wine_type_loss: 0.0304 - wine_quality_root_mean_squared_error: 0.5707 - wine_type_accuracy: 0.9943 - val_loss: 0.4403 - val_wine_quality_loss: 0.4101 - val_wine_type_loss: 0.0319 - val_wine_quality_root_mean_squared_error: 0.6389 - val_wine_type_accuracy: 0.9919\n",
      "Epoch 42/180\n",
      "3155/3155 [==============================] - 0s 77us/sample - loss: 0.3527 - wine_quality_loss: 0.3233 - wine_type_loss: 0.0300 - wine_quality_root_mean_squared_error: 0.5680 - wine_type_accuracy: 0.9946 - val_loss: 0.4334 - val_wine_quality_loss: 0.4035 - val_wine_type_loss: 0.0315 - val_wine_quality_root_mean_squared_error: 0.6339 - val_wine_type_accuracy: 0.9919\n",
      "Epoch 43/180\n"
     ]
    },
    {
     "name": "stdout",
     "output_type": "stream",
     "text": [
      "3155/3155 [==============================] - 0s 91us/sample - loss: 0.3492 - wine_quality_loss: 0.3190 - wine_type_loss: 0.0297 - wine_quality_root_mean_squared_error: 0.5651 - wine_type_accuracy: 0.9943 - val_loss: 0.4262 - val_wine_quality_loss: 0.3962 - val_wine_type_loss: 0.0314 - val_wine_quality_root_mean_squared_error: 0.6282 - val_wine_type_accuracy: 0.9919\n",
      "Epoch 44/180\n",
      "3155/3155 [==============================] - 0s 92us/sample - loss: 0.3478 - wine_quality_loss: 0.3191 - wine_type_loss: 0.0294 - wine_quality_root_mean_squared_error: 0.5642 - wine_type_accuracy: 0.9943 - val_loss: 0.4305 - val_wine_quality_loss: 0.4006 - val_wine_type_loss: 0.0315 - val_wine_quality_root_mean_squared_error: 0.6316 - val_wine_type_accuracy: 0.9919\n",
      "Epoch 45/180\n",
      "3155/3155 [==============================] - 0s 90us/sample - loss: 0.3440 - wine_quality_loss: 0.3150 - wine_type_loss: 0.0291 - wine_quality_root_mean_squared_error: 0.5611 - wine_type_accuracy: 0.9946 - val_loss: 0.4309 - val_wine_quality_loss: 0.4009 - val_wine_type_loss: 0.0314 - val_wine_quality_root_mean_squared_error: 0.6320 - val_wine_type_accuracy: 0.9919\n",
      "Epoch 46/180\n",
      "3155/3155 [==============================] - 0s 77us/sample - loss: 0.3405 - wine_quality_loss: 0.3118 - wine_type_loss: 0.0289 - wine_quality_root_mean_squared_error: 0.5581 - wine_type_accuracy: 0.9949 - val_loss: 0.4339 - val_wine_quality_loss: 0.4041 - val_wine_type_loss: 0.0313 - val_wine_quality_root_mean_squared_error: 0.6344 - val_wine_type_accuracy: 0.9919\n",
      "Epoch 47/180\n",
      "3155/3155 [==============================] - 0s 90us/sample - loss: 0.3395 - wine_quality_loss: 0.3103 - wine_type_loss: 0.0303 - wine_quality_root_mean_squared_error: 0.5575 - wine_type_accuracy: 0.9949 - val_loss: 0.4246 - val_wine_quality_loss: 0.3951 - val_wine_type_loss: 0.0310 - val_wine_quality_root_mean_squared_error: 0.6272 - val_wine_type_accuracy: 0.9919\n",
      "Epoch 48/180\n",
      "3155/3155 [==============================] - 0s 90us/sample - loss: 0.3371 - wine_quality_loss: 0.3082 - wine_type_loss: 0.0294 - wine_quality_root_mean_squared_error: 0.5555 - wine_type_accuracy: 0.9949 - val_loss: 0.4187 - val_wine_quality_loss: 0.3890 - val_wine_type_loss: 0.0308 - val_wine_quality_root_mean_squared_error: 0.6227 - val_wine_type_accuracy: 0.9919\n",
      "Epoch 49/180\n",
      "3155/3155 [==============================] - 0s 89us/sample - loss: 0.3338 - wine_quality_loss: 0.3055 - wine_type_loss: 0.0281 - wine_quality_root_mean_squared_error: 0.5528 - wine_type_accuracy: 0.9943 - val_loss: 0.4229 - val_wine_quality_loss: 0.3932 - val_wine_type_loss: 0.0308 - val_wine_quality_root_mean_squared_error: 0.6260 - val_wine_type_accuracy: 0.9919\n",
      "Epoch 50/180\n",
      "3155/3155 [==============================] - 0s 77us/sample - loss: 0.3329 - wine_quality_loss: 0.3048 - wine_type_loss: 0.0280 - wine_quality_root_mean_squared_error: 0.5521 - wine_type_accuracy: 0.9949 - val_loss: 0.4308 - val_wine_quality_loss: 0.4013 - val_wine_type_loss: 0.0308 - val_wine_quality_root_mean_squared_error: 0.6324 - val_wine_type_accuracy: 0.9919\n",
      "Epoch 51/180\n",
      "3155/3155 [==============================] - 0s 91us/sample - loss: 0.3299 - wine_quality_loss: 0.3018 - wine_type_loss: 0.0277 - wine_quality_root_mean_squared_error: 0.5497 - wine_type_accuracy: 0.9946 - val_loss: 0.4246 - val_wine_quality_loss: 0.3955 - val_wine_type_loss: 0.0303 - val_wine_quality_root_mean_squared_error: 0.6278 - val_wine_type_accuracy: 0.9919\n",
      "Epoch 52/180\n",
      "3155/3155 [==============================] - 0s 90us/sample - loss: 0.3294 - wine_quality_loss: 0.3017 - wine_type_loss: 0.0275 - wine_quality_root_mean_squared_error: 0.5494 - wine_type_accuracy: 0.9949 - val_loss: 0.4134 - val_wine_quality_loss: 0.3844 - val_wine_type_loss: 0.0301 - val_wine_quality_root_mean_squared_error: 0.6190 - val_wine_type_accuracy: 0.9919\n",
      "Epoch 53/180\n",
      "3155/3155 [==============================] - 0s 72us/sample - loss: 0.3274 - wine_quality_loss: 0.3002 - wine_type_loss: 0.0272 - wine_quality_root_mean_squared_error: 0.5478 - wine_type_accuracy: 0.9952 - val_loss: 0.4133 - val_wine_quality_loss: 0.3843 - val_wine_type_loss: 0.0302 - val_wine_quality_root_mean_squared_error: 0.6189 - val_wine_type_accuracy: 0.9919\n",
      "Epoch 54/180\n",
      "3155/3155 [==============================] - 0s 91us/sample - loss: 0.3269 - wine_quality_loss: 0.2994 - wine_type_loss: 0.0270 - wine_quality_root_mean_squared_error: 0.5475 - wine_type_accuracy: 0.9949 - val_loss: 0.4108 - val_wine_quality_loss: 0.3819 - val_wine_type_loss: 0.0298 - val_wine_quality_root_mean_squared_error: 0.6171 - val_wine_type_accuracy: 0.9919\n",
      "Epoch 55/180\n",
      "3155/3155 [==============================] - 0s 91us/sample - loss: 0.3252 - wine_quality_loss: 0.2981 - wine_type_loss: 0.0269 - wine_quality_root_mean_squared_error: 0.5461 - wine_type_accuracy: 0.9956 - val_loss: 0.4140 - val_wine_quality_loss: 0.3851 - val_wine_type_loss: 0.0299 - val_wine_quality_root_mean_squared_error: 0.6196 - val_wine_type_accuracy: 0.9919\n",
      "Epoch 56/180\n",
      "3155/3155 [==============================] - 0s 88us/sample - loss: 0.3237 - wine_quality_loss: 0.2972 - wine_type_loss: 0.0266 - wine_quality_root_mean_squared_error: 0.5449 - wine_type_accuracy: 0.9952 - val_loss: 0.4062 - val_wine_quality_loss: 0.3775 - val_wine_type_loss: 0.0297 - val_wine_quality_root_mean_squared_error: 0.6135 - val_wine_type_accuracy: 0.9919\n",
      "Epoch 57/180\n",
      "3155/3155 [==============================] - 0s 77us/sample - loss: 0.3226 - wine_quality_loss: 0.2955 - wine_type_loss: 0.0265 - wine_quality_root_mean_squared_error: 0.5441 - wine_type_accuracy: 0.9956 - val_loss: 0.4130 - val_wine_quality_loss: 0.3842 - val_wine_type_loss: 0.0299 - val_wine_quality_root_mean_squared_error: 0.6189 - val_wine_type_accuracy: 0.9919\n",
      "Epoch 58/180\n",
      "3155/3155 [==============================] - 0s 91us/sample - loss: 0.3213 - wine_quality_loss: 0.2950 - wine_type_loss: 0.0263 - wine_quality_root_mean_squared_error: 0.5431 - wine_type_accuracy: 0.9952 - val_loss: 0.4109 - val_wine_quality_loss: 0.3823 - val_wine_type_loss: 0.0297 - val_wine_quality_root_mean_squared_error: 0.6173 - val_wine_type_accuracy: 0.9919\n",
      "Epoch 59/180\n",
      "3155/3155 [==============================] - 0s 90us/sample - loss: 0.3203 - wine_quality_loss: 0.2938 - wine_type_loss: 0.0261 - wine_quality_root_mean_squared_error: 0.5423 - wine_type_accuracy: 0.9956 - val_loss: 0.4189 - val_wine_quality_loss: 0.3905 - val_wine_type_loss: 0.0293 - val_wine_quality_root_mean_squared_error: 0.6241 - val_wine_type_accuracy: 0.9919\n",
      "Epoch 60/180\n",
      "3155/3155 [==============================] - 0s 74us/sample - loss: 0.3196 - wine_quality_loss: 0.2929 - wine_type_loss: 0.0259 - wine_quality_root_mean_squared_error: 0.5418 - wine_type_accuracy: 0.9956 - val_loss: 0.4032 - val_wine_quality_loss: 0.3748 - val_wine_type_loss: 0.0293 - val_wine_quality_root_mean_squared_error: 0.6114 - val_wine_type_accuracy: 0.9919\n",
      "Epoch 61/180\n",
      "3155/3155 [==============================] - 0s 76us/sample - loss: 0.3185 - wine_quality_loss: 0.2929 - wine_type_loss: 0.0257 - wine_quality_root_mean_squared_error: 0.5411 - wine_type_accuracy: 0.9956 - val_loss: 0.4088 - val_wine_quality_loss: 0.3802 - val_wine_type_loss: 0.0295 - val_wine_quality_root_mean_squared_error: 0.6157 - val_wine_type_accuracy: 0.9919\n",
      "Epoch 62/180\n",
      "3155/3155 [==============================] - 0s 88us/sample - loss: 0.3168 - wine_quality_loss: 0.2913 - wine_type_loss: 0.0256 - wine_quality_root_mean_squared_error: 0.5395 - wine_type_accuracy: 0.9956 - val_loss: 0.4066 - val_wine_quality_loss: 0.3782 - val_wine_type_loss: 0.0293 - val_wine_quality_root_mean_squared_error: 0.6141 - val_wine_type_accuracy: 0.9919\n",
      "Epoch 63/180\n",
      "3155/3155 [==============================] - 0s 72us/sample - loss: 0.3148 - wine_quality_loss: 0.2892 - wine_type_loss: 0.0255 - wine_quality_root_mean_squared_error: 0.5379 - wine_type_accuracy: 0.9952 - val_loss: 0.4050 - val_wine_quality_loss: 0.3768 - val_wine_type_loss: 0.0291 - val_wine_quality_root_mean_squared_error: 0.6130 - val_wine_type_accuracy: 0.9919\n",
      "Epoch 64/180\n",
      "3155/3155 [==============================] - 0s 86us/sample - loss: 0.3148 - wine_quality_loss: 0.2900 - wine_type_loss: 0.0267 - wine_quality_root_mean_squared_error: 0.5380 - wine_type_accuracy: 0.9956 - val_loss: 0.4068 - val_wine_quality_loss: 0.3788 - val_wine_type_loss: 0.0289 - val_wine_quality_root_mean_squared_error: 0.6147 - val_wine_type_accuracy: 0.9919\n",
      "Epoch 65/180\n",
      "3155/3155 [==============================] - 0s 72us/sample - loss: 0.3138 - wine_quality_loss: 0.2889 - wine_type_loss: 0.0251 - wine_quality_root_mean_squared_error: 0.5372 - wine_type_accuracy: 0.9956 - val_loss: 0.4080 - val_wine_quality_loss: 0.3800 - val_wine_type_loss: 0.0289 - val_wine_quality_root_mean_squared_error: 0.6156 - val_wine_type_accuracy: 0.9919\n",
      "Epoch 66/180\n",
      "3155/3155 [==============================] - 0s 87us/sample - loss: 0.3125 - wine_quality_loss: 0.2873 - wine_type_loss: 0.0249 - wine_quality_root_mean_squared_error: 0.5362 - wine_type_accuracy: 0.9956 - val_loss: 0.4037 - val_wine_quality_loss: 0.3759 - val_wine_type_loss: 0.0287 - val_wine_quality_root_mean_squared_error: 0.6123 - val_wine_type_accuracy: 0.9919\n",
      "Epoch 67/180\n",
      "3155/3155 [==============================] - 0s 71us/sample - loss: 0.3125 - wine_quality_loss: 0.2870 - wine_type_loss: 0.0248 - wine_quality_root_mean_squared_error: 0.5364 - wine_type_accuracy: 0.9956 - val_loss: 0.4024 - val_wine_quality_loss: 0.3748 - val_wine_type_loss: 0.0286 - val_wine_quality_root_mean_squared_error: 0.6113 - val_wine_type_accuracy: 0.9919\n",
      "Epoch 68/180\n",
      "3155/3155 [==============================] - 0s 88us/sample - loss: 0.3106 - wine_quality_loss: 0.2864 - wine_type_loss: 0.0246 - wine_quality_root_mean_squared_error: 0.5347 - wine_type_accuracy: 0.9952 - val_loss: 0.4051 - val_wine_quality_loss: 0.3774 - val_wine_type_loss: 0.0285 - val_wine_quality_root_mean_squared_error: 0.6136 - val_wine_type_accuracy: 0.9919\n",
      "Epoch 69/180\n",
      "3155/3155 [==============================] - 0s 73us/sample - loss: 0.3110 - wine_quality_loss: 0.2862 - wine_type_loss: 0.0245 - wine_quality_root_mean_squared_error: 0.5352 - wine_type_accuracy: 0.9952 - val_loss: 0.4104 - val_wine_quality_loss: 0.3827 - val_wine_type_loss: 0.0286 - val_wine_quality_root_mean_squared_error: 0.6177 - val_wine_type_accuracy: 0.9919\n",
      "Epoch 70/180\n",
      "3155/3155 [==============================] - 0s 88us/sample - loss: 0.3096 - wine_quality_loss: 0.2852 - wine_type_loss: 0.0244 - wine_quality_root_mean_squared_error: 0.5340 - wine_type_accuracy: 0.9956 - val_loss: 0.4000 - val_wine_quality_loss: 0.3724 - val_wine_type_loss: 0.0284 - val_wine_quality_root_mean_squared_error: 0.6095 - val_wine_type_accuracy: 0.9919\n",
      "Epoch 71/180\n",
      "3155/3155 [==============================] - 0s 85us/sample - loss: 0.3065 - wine_quality_loss: 0.2818 - wine_type_loss: 0.0242 - wine_quality_root_mean_squared_error: 0.5314 - wine_type_accuracy: 0.9956 - val_loss: 0.4008 - val_wine_quality_loss: 0.3730 - val_wine_type_loss: 0.0287 - val_wine_quality_root_mean_squared_error: 0.6099 - val_wine_type_accuracy: 0.9909\n",
      "Epoch 72/180\n",
      "3155/3155 [==============================] - 0s 76us/sample - loss: 0.3079 - wine_quality_loss: 0.2836 - wine_type_loss: 0.0241 - wine_quality_root_mean_squared_error: 0.5327 - wine_type_accuracy: 0.9956 - val_loss: 0.4039 - val_wine_quality_loss: 0.3764 - val_wine_type_loss: 0.0285 - val_wine_quality_root_mean_squared_error: 0.6126 - val_wine_type_accuracy: 0.9909\n",
      "Epoch 73/180\n",
      "3155/3155 [==============================] - 0s 87us/sample - loss: 0.3073 - wine_quality_loss: 0.2836 - wine_type_loss: 0.0239 - wine_quality_root_mean_squared_error: 0.5323 - wine_type_accuracy: 0.9956 - val_loss: 0.4095 - val_wine_quality_loss: 0.3822 - val_wine_type_loss: 0.0284 - val_wine_quality_root_mean_squared_error: 0.6173 - val_wine_type_accuracy: 0.9919\n",
      "Epoch 74/180\n",
      "3155/3155 [==============================] - 0s 73us/sample - loss: 0.3047 - wine_quality_loss: 0.2808 - wine_type_loss: 0.0238 - wine_quality_root_mean_squared_error: 0.5299 - wine_type_accuracy: 0.9959 - val_loss: 0.4018 - val_wine_quality_loss: 0.3746 - val_wine_type_loss: 0.0282 - val_wine_quality_root_mean_squared_error: 0.6111 - val_wine_type_accuracy: 0.9919\n",
      "Epoch 75/180\n",
      "3155/3155 [==============================] - 0s 87us/sample - loss: 0.3053 - wine_quality_loss: 0.2813 - wine_type_loss: 0.0237 - wine_quality_root_mean_squared_error: 0.5307 - wine_type_accuracy: 0.9959 - val_loss: 0.4205 - val_wine_quality_loss: 0.3931 - val_wine_type_loss: 0.0283 - val_wine_quality_root_mean_squared_error: 0.6262 - val_wine_type_accuracy: 0.9909\n",
      "Epoch 76/180\n",
      "3155/3155 [==============================] - 0s 72us/sample - loss: 0.3051 - wine_quality_loss: 0.2822 - wine_type_loss: 0.0235 - wine_quality_root_mean_squared_error: 0.5306 - wine_type_accuracy: 0.9959 - val_loss: 0.4107 - val_wine_quality_loss: 0.3835 - val_wine_type_loss: 0.0282 - val_wine_quality_root_mean_squared_error: 0.6184 - val_wine_type_accuracy: 0.9919\n",
      "Epoch 77/180\n",
      "3155/3155 [==============================] - 0s 88us/sample - loss: 0.3036 - wine_quality_loss: 0.2800 - wine_type_loss: 0.0244 - wine_quality_root_mean_squared_error: 0.5293 - wine_type_accuracy: 0.9959 - val_loss: 0.4056 - val_wine_quality_loss: 0.3786 - val_wine_type_loss: 0.0279 - val_wine_quality_root_mean_squared_error: 0.6145 - val_wine_type_accuracy: 0.9919\n",
      "Epoch 78/180\n",
      "3155/3155 [==============================] - 0s 87us/sample - loss: 0.3038 - wine_quality_loss: 0.2806 - wine_type_loss: 0.0232 - wine_quality_root_mean_squared_error: 0.5296 - wine_type_accuracy: 0.9959 - val_loss: 0.4012 - val_wine_quality_loss: 0.3743 - val_wine_type_loss: 0.0278 - val_wine_quality_root_mean_squared_error: 0.6110 - val_wine_type_accuracy: 0.9919\n",
      "Epoch 79/180\n",
      "3155/3155 [==============================] - 0s 74us/sample - loss: 0.3022 - wine_quality_loss: 0.2787 - wine_type_loss: 0.0231 - wine_quality_root_mean_squared_error: 0.5282 - wine_type_accuracy: 0.9959 - val_loss: 0.4060 - val_wine_quality_loss: 0.3792 - val_wine_type_loss: 0.0279 - val_wine_quality_root_mean_squared_error: 0.6148 - val_wine_type_accuracy: 0.9919\n",
      "Epoch 80/180\n",
      "3155/3155 [==============================] - 0s 87us/sample - loss: 0.3019 - wine_quality_loss: 0.2787 - wine_type_loss: 0.0230 - wine_quality_root_mean_squared_error: 0.5280 - wine_type_accuracy: 0.9959 - val_loss: 0.4081 - val_wine_quality_loss: 0.3813 - val_wine_type_loss: 0.0279 - val_wine_quality_root_mean_squared_error: 0.6166 - val_wine_type_accuracy: 0.9909\n",
      "Epoch 81/180\n",
      "3155/3155 [==============================] - 0s 74us/sample - loss: 0.3010 - wine_quality_loss: 0.2783 - wine_type_loss: 0.0243 - wine_quality_root_mean_squared_error: 0.5273 - wine_type_accuracy: 0.9959 - val_loss: 0.4014 - val_wine_quality_loss: 0.3747 - val_wine_type_loss: 0.0276 - val_wine_quality_root_mean_squared_error: 0.6114 - val_wine_type_accuracy: 0.9919\n",
      "Epoch 82/180\n",
      "3155/3155 [==============================] - 0s 87us/sample - loss: 0.2999 - wine_quality_loss: 0.2775 - wine_type_loss: 0.0227 - wine_quality_root_mean_squared_error: 0.5264 - wine_type_accuracy: 0.9959 - val_loss: 0.4027 - val_wine_quality_loss: 0.3761 - val_wine_type_loss: 0.0276 - val_wine_quality_root_mean_squared_error: 0.6124 - val_wine_type_accuracy: 0.9919\n",
      "Epoch 83/180\n",
      "3155/3155 [==============================] - 0s 71us/sample - loss: 0.2998 - wine_quality_loss: 0.2772 - wine_type_loss: 0.0226 - wine_quality_root_mean_squared_error: 0.5264 - wine_type_accuracy: 0.9959 - val_loss: 0.4081 - val_wine_quality_loss: 0.3812 - val_wine_type_loss: 0.0278 - val_wine_quality_root_mean_squared_error: 0.6166 - val_wine_type_accuracy: 0.9909\n",
      "Epoch 84/180\n",
      "3155/3155 [==============================] - 0s 87us/sample - loss: 0.2990 - wine_quality_loss: 0.2763 - wine_type_loss: 0.0224 - wine_quality_root_mean_squared_error: 0.5259 - wine_type_accuracy: 0.9959 - val_loss: 0.4094 - val_wine_quality_loss: 0.3829 - val_wine_type_loss: 0.0276 - val_wine_quality_root_mean_squared_error: 0.6178 - val_wine_type_accuracy: 0.9909\n",
      "Epoch 85/180\n"
     ]
    },
    {
     "name": "stdout",
     "output_type": "stream",
     "text": [
      "3155/3155 [==============================] - 0s 74us/sample - loss: 0.2981 - wine_quality_loss: 0.2757 - wine_type_loss: 0.0223 - wine_quality_root_mean_squared_error: 0.5250 - wine_type_accuracy: 0.9959 - val_loss: 0.3984 - val_wine_quality_loss: 0.3719 - val_wine_type_loss: 0.0273 - val_wine_quality_root_mean_squared_error: 0.6091 - val_wine_type_accuracy: 0.9919\n",
      "Epoch 86/180\n",
      "3155/3155 [==============================] - 0s 88us/sample - loss: 0.2971 - wine_quality_loss: 0.2748 - wine_type_loss: 0.0221 - wine_quality_root_mean_squared_error: 0.5244 - wine_type_accuracy: 0.9959 - val_loss: 0.3986 - val_wine_quality_loss: 0.3719 - val_wine_type_loss: 0.0274 - val_wine_quality_root_mean_squared_error: 0.6092 - val_wine_type_accuracy: 0.9909\n",
      "Epoch 87/180\n",
      "3155/3155 [==============================] - 0s 87us/sample - loss: 0.2972 - wine_quality_loss: 0.2752 - wine_type_loss: 0.0220 - wine_quality_root_mean_squared_error: 0.5245 - wine_type_accuracy: 0.9959 - val_loss: 0.4051 - val_wine_quality_loss: 0.3788 - val_wine_type_loss: 0.0273 - val_wine_quality_root_mean_squared_error: 0.6145 - val_wine_type_accuracy: 0.9909\n",
      "Epoch 88/180\n",
      "3155/3155 [==============================] - 0s 73us/sample - loss: 0.2960 - wine_quality_loss: 0.2744 - wine_type_loss: 0.0219 - wine_quality_root_mean_squared_error: 0.5234 - wine_type_accuracy: 0.9959 - val_loss: 0.3932 - val_wine_quality_loss: 0.3669 - val_wine_type_loss: 0.0272 - val_wine_quality_root_mean_squared_error: 0.6049 - val_wine_type_accuracy: 0.9919\n",
      "Epoch 89/180\n",
      "3155/3155 [==============================] - 0s 87us/sample - loss: 0.2956 - wine_quality_loss: 0.2741 - wine_type_loss: 0.0219 - wine_quality_root_mean_squared_error: 0.5232 - wine_type_accuracy: 0.9959 - val_loss: 0.4037 - val_wine_quality_loss: 0.3773 - val_wine_type_loss: 0.0273 - val_wine_quality_root_mean_squared_error: 0.6134 - val_wine_type_accuracy: 0.9909\n",
      "Epoch 90/180\n",
      "3155/3155 [==============================] - 0s 73us/sample - loss: 0.2949 - wine_quality_loss: 0.2729 - wine_type_loss: 0.0217 - wine_quality_root_mean_squared_error: 0.5226 - wine_type_accuracy: 0.9959 - val_loss: 0.4092 - val_wine_quality_loss: 0.3829 - val_wine_type_loss: 0.0273 - val_wine_quality_root_mean_squared_error: 0.6179 - val_wine_type_accuracy: 0.9909\n",
      "Epoch 91/180\n",
      "3155/3155 [==============================] - 0s 88us/sample - loss: 0.2945 - wine_quality_loss: 0.2731 - wine_type_loss: 0.0216 - wine_quality_root_mean_squared_error: 0.5223 - wine_type_accuracy: 0.9959 - val_loss: 0.4026 - val_wine_quality_loss: 0.3762 - val_wine_type_loss: 0.0271 - val_wine_quality_root_mean_squared_error: 0.6126 - val_wine_type_accuracy: 0.9909\n",
      "Epoch 92/180\n",
      "3155/3155 [==============================] - 0s 73us/sample - loss: 0.2932 - wine_quality_loss: 0.2716 - wine_type_loss: 0.0229 - wine_quality_root_mean_squared_error: 0.5212 - wine_type_accuracy: 0.9959 - val_loss: 0.4016 - val_wine_quality_loss: 0.3753 - val_wine_type_loss: 0.0270 - val_wine_quality_root_mean_squared_error: 0.6119 - val_wine_type_accuracy: 0.9909\n",
      "Epoch 93/180\n",
      "3155/3155 [==============================] - 0s 88us/sample - loss: 0.2929 - wine_quality_loss: 0.2714 - wine_type_loss: 0.0220 - wine_quality_root_mean_squared_error: 0.5211 - wine_type_accuracy: 0.9959 - val_loss: 0.4083 - val_wine_quality_loss: 0.3820 - val_wine_type_loss: 0.0272 - val_wine_quality_root_mean_squared_error: 0.6173 - val_wine_type_accuracy: 0.9909\n",
      "Epoch 94/180\n",
      "3155/3155 [==============================] - 0s 88us/sample - loss: 0.2930 - wine_quality_loss: 0.2714 - wine_type_loss: 0.0213 - wine_quality_root_mean_squared_error: 0.5213 - wine_type_accuracy: 0.9959 - val_loss: 0.3948 - val_wine_quality_loss: 0.3686 - val_wine_type_loss: 0.0271 - val_wine_quality_root_mean_squared_error: 0.6063 - val_wine_type_accuracy: 0.9909\n",
      "Epoch 95/180\n",
      "3155/3155 [==============================] - 0s 73us/sample - loss: 0.2910 - wine_quality_loss: 0.2696 - wine_type_loss: 0.0211 - wine_quality_root_mean_squared_error: 0.5194 - wine_type_accuracy: 0.9959 - val_loss: 0.4067 - val_wine_quality_loss: 0.3805 - val_wine_type_loss: 0.0270 - val_wine_quality_root_mean_squared_error: 0.6161 - val_wine_type_accuracy: 0.9909\n",
      "Epoch 96/180\n",
      "3155/3155 [==============================] - 0s 88us/sample - loss: 0.2915 - wine_quality_loss: 0.2700 - wine_type_loss: 0.0210 - wine_quality_root_mean_squared_error: 0.5200 - wine_type_accuracy: 0.9959 - val_loss: 0.4024 - val_wine_quality_loss: 0.3766 - val_wine_type_loss: 0.0268 - val_wine_quality_root_mean_squared_error: 0.6128 - val_wine_type_accuracy: 0.9909\n",
      "Epoch 97/180\n",
      "3155/3155 [==============================] - 0s 72us/sample - loss: 0.2908 - wine_quality_loss: 0.2692 - wine_type_loss: 0.0211 - wine_quality_root_mean_squared_error: 0.5193 - wine_type_accuracy: 0.9959 - val_loss: 0.3999 - val_wine_quality_loss: 0.3740 - val_wine_type_loss: 0.0268 - val_wine_quality_root_mean_squared_error: 0.6107 - val_wine_type_accuracy: 0.9909\n",
      "Epoch 98/180\n",
      "3155/3155 [==============================] - 0s 88us/sample - loss: 0.2898 - wine_quality_loss: 0.2693 - wine_type_loss: 0.0209 - wine_quality_root_mean_squared_error: 0.5186 - wine_type_accuracy: 0.9959 - val_loss: 0.3970 - val_wine_quality_loss: 0.3709 - val_wine_type_loss: 0.0268 - val_wine_quality_root_mean_squared_error: 0.6083 - val_wine_type_accuracy: 0.9909\n",
      "Epoch 99/180\n",
      "3155/3155 [==============================] - 0s 86us/sample - loss: 0.2893 - wine_quality_loss: 0.2685 - wine_type_loss: 0.0208 - wine_quality_root_mean_squared_error: 0.5181 - wine_type_accuracy: 0.9959 - val_loss: 0.3971 - val_wine_quality_loss: 0.3712 - val_wine_type_loss: 0.0267 - val_wine_quality_root_mean_squared_error: 0.6085 - val_wine_type_accuracy: 0.9909\n",
      "Epoch 100/180\n",
      "3155/3155 [==============================] - 0s 74us/sample - loss: 0.2888 - wine_quality_loss: 0.2687 - wine_type_loss: 0.0206 - wine_quality_root_mean_squared_error: 0.5178 - wine_type_accuracy: 0.9959 - val_loss: 0.4004 - val_wine_quality_loss: 0.3748 - val_wine_type_loss: 0.0265 - val_wine_quality_root_mean_squared_error: 0.6113 - val_wine_type_accuracy: 0.9909\n",
      "Epoch 101/180\n",
      "3155/3155 [==============================] - 0s 88us/sample - loss: 0.2871 - wine_quality_loss: 0.2664 - wine_type_loss: 0.0211 - wine_quality_root_mean_squared_error: 0.5162 - wine_type_accuracy: 0.9959 - val_loss: 0.4061 - val_wine_quality_loss: 0.3802 - val_wine_type_loss: 0.0267 - val_wine_quality_root_mean_squared_error: 0.6159 - val_wine_type_accuracy: 0.9909\n",
      "Epoch 102/180\n",
      "3155/3155 [==============================] - 0s 73us/sample - loss: 0.2881 - wine_quality_loss: 0.2675 - wine_type_loss: 0.0205 - wine_quality_root_mean_squared_error: 0.5172 - wine_type_accuracy: 0.9959 - val_loss: 0.3961 - val_wine_quality_loss: 0.3703 - val_wine_type_loss: 0.0265 - val_wine_quality_root_mean_squared_error: 0.6078 - val_wine_type_accuracy: 0.9909\n",
      "Epoch 103/180\n",
      "3155/3155 [==============================] - 0s 89us/sample - loss: 0.2870 - wine_quality_loss: 0.2669 - wine_type_loss: 0.0203 - wine_quality_root_mean_squared_error: 0.5163 - wine_type_accuracy: 0.9959 - val_loss: 0.3995 - val_wine_quality_loss: 0.3740 - val_wine_type_loss: 0.0264 - val_wine_quality_root_mean_squared_error: 0.6107 - val_wine_type_accuracy: 0.9909\n",
      "Epoch 104/180\n",
      "3155/3155 [==============================] - 0s 73us/sample - loss: 0.2861 - wine_quality_loss: 0.2654 - wine_type_loss: 0.0202 - wine_quality_root_mean_squared_error: 0.5155 - wine_type_accuracy: 0.9962 - val_loss: 0.4038 - val_wine_quality_loss: 0.3780 - val_wine_type_loss: 0.0267 - val_wine_quality_root_mean_squared_error: 0.6140 - val_wine_type_accuracy: 0.9909\n",
      "Epoch 105/180\n",
      "3155/3155 [==============================] - 0s 87us/sample - loss: 0.2855 - wine_quality_loss: 0.2659 - wine_type_loss: 0.0201 - wine_quality_root_mean_squared_error: 0.5151 - wine_type_accuracy: 0.9959 - val_loss: 0.4015 - val_wine_quality_loss: 0.3758 - val_wine_type_loss: 0.0265 - val_wine_quality_root_mean_squared_error: 0.6122 - val_wine_type_accuracy: 0.9909\n",
      "Epoch 106/180\n",
      "3155/3155 [==============================] - 0s 87us/sample - loss: 0.2853 - wine_quality_loss: 0.2650 - wine_type_loss: 0.0200 - wine_quality_root_mean_squared_error: 0.5150 - wine_type_accuracy: 0.9962 - val_loss: 0.3995 - val_wine_quality_loss: 0.3738 - val_wine_type_loss: 0.0265 - val_wine_quality_root_mean_squared_error: 0.6107 - val_wine_type_accuracy: 0.9909\n",
      "Epoch 107/180\n",
      "3155/3155 [==============================] - 0s 73us/sample - loss: 0.2855 - wine_quality_loss: 0.2652 - wine_type_loss: 0.0200 - wine_quality_root_mean_squared_error: 0.5153 - wine_type_accuracy: 0.9959 - val_loss: 0.4019 - val_wine_quality_loss: 0.3763 - val_wine_type_loss: 0.0263 - val_wine_quality_root_mean_squared_error: 0.6127 - val_wine_type_accuracy: 0.9909\n",
      "Epoch 108/180\n",
      "3155/3155 [==============================] - 0s 87us/sample - loss: 0.2843 - wine_quality_loss: 0.2645 - wine_type_loss: 0.0198 - wine_quality_root_mean_squared_error: 0.5143 - wine_type_accuracy: 0.9962 - val_loss: 0.3983 - val_wine_quality_loss: 0.3727 - val_wine_type_loss: 0.0264 - val_wine_quality_root_mean_squared_error: 0.6097 - val_wine_type_accuracy: 0.9909\n",
      "Epoch 109/180\n",
      "3155/3155 [==============================] - 0s 73us/sample - loss: 0.2833 - wine_quality_loss: 0.2633 - wine_type_loss: 0.0197 - wine_quality_root_mean_squared_error: 0.5134 - wine_type_accuracy: 0.9962 - val_loss: 0.3914 - val_wine_quality_loss: 0.3658 - val_wine_type_loss: 0.0263 - val_wine_quality_root_mean_squared_error: 0.6041 - val_wine_type_accuracy: 0.9909\n",
      "Epoch 110/180\n",
      "3155/3155 [==============================] - 0s 87us/sample - loss: 0.2843 - wine_quality_loss: 0.2645 - wine_type_loss: 0.0196 - wine_quality_root_mean_squared_error: 0.5144 - wine_type_accuracy: 0.9962 - val_loss: 0.3927 - val_wine_quality_loss: 0.3671 - val_wine_type_loss: 0.0263 - val_wine_quality_root_mean_squared_error: 0.6053 - val_wine_type_accuracy: 0.9909\n",
      "Epoch 111/180\n",
      "3155/3155 [==============================] - 0s 71us/sample - loss: 0.2827 - wine_quality_loss: 0.2631 - wine_type_loss: 0.0196 - wine_quality_root_mean_squared_error: 0.5129 - wine_type_accuracy: 0.9962 - val_loss: 0.3905 - val_wine_quality_loss: 0.3650 - val_wine_type_loss: 0.0262 - val_wine_quality_root_mean_squared_error: 0.6035 - val_wine_type_accuracy: 0.9909\n",
      "Epoch 112/180\n",
      "3155/3155 [==============================] - 0s 89us/sample - loss: 0.2823 - wine_quality_loss: 0.2621 - wine_type_loss: 0.0194 - wine_quality_root_mean_squared_error: 0.5127 - wine_type_accuracy: 0.9962 - val_loss: 0.3912 - val_wine_quality_loss: 0.3658 - val_wine_type_loss: 0.0262 - val_wine_quality_root_mean_squared_error: 0.6041 - val_wine_type_accuracy: 0.9909\n",
      "Epoch 113/180\n",
      "3155/3155 [==============================] - 0s 73us/sample - loss: 0.2815 - wine_quality_loss: 0.2620 - wine_type_loss: 0.0194 - wine_quality_root_mean_squared_error: 0.5120 - wine_type_accuracy: 0.9962 - val_loss: 0.3987 - val_wine_quality_loss: 0.3731 - val_wine_type_loss: 0.0262 - val_wine_quality_root_mean_squared_error: 0.6103 - val_wine_type_accuracy: 0.9909\n",
      "Epoch 114/180\n",
      "3155/3155 [==============================] - 0s 89us/sample - loss: 0.2824 - wine_quality_loss: 0.2629 - wine_type_loss: 0.0194 - wine_quality_root_mean_squared_error: 0.5128 - wine_type_accuracy: 0.9962 - val_loss: 0.3931 - val_wine_quality_loss: 0.3677 - val_wine_type_loss: 0.0261 - val_wine_quality_root_mean_squared_error: 0.6058 - val_wine_type_accuracy: 0.9909\n",
      "Epoch 115/180\n",
      "3155/3155 [==============================] - 0s 88us/sample - loss: 0.2804 - wine_quality_loss: 0.2608 - wine_type_loss: 0.0192 - wine_quality_root_mean_squared_error: 0.5110 - wine_type_accuracy: 0.9962 - val_loss: 0.4033 - val_wine_quality_loss: 0.3781 - val_wine_type_loss: 0.0262 - val_wine_quality_root_mean_squared_error: 0.6140 - val_wine_type_accuracy: 0.9909\n",
      "Epoch 116/180\n",
      "3155/3155 [==============================] - 0s 73us/sample - loss: 0.2815 - wine_quality_loss: 0.2626 - wine_type_loss: 0.0191 - wine_quality_root_mean_squared_error: 0.5122 - wine_type_accuracy: 0.9962 - val_loss: 0.3953 - val_wine_quality_loss: 0.3699 - val_wine_type_loss: 0.0260 - val_wine_quality_root_mean_squared_error: 0.6076 - val_wine_type_accuracy: 0.9909\n",
      "Epoch 117/180\n",
      "3155/3155 [==============================] - 0s 87us/sample - loss: 0.2800 - wine_quality_loss: 0.2608 - wine_type_loss: 0.0191 - wine_quality_root_mean_squared_error: 0.5108 - wine_type_accuracy: 0.9962 - val_loss: 0.3943 - val_wine_quality_loss: 0.3690 - val_wine_type_loss: 0.0260 - val_wine_quality_root_mean_squared_error: 0.6068 - val_wine_type_accuracy: 0.9909\n",
      "Epoch 118/180\n",
      "3155/3155 [==============================] - 0s 74us/sample - loss: 0.2790 - wine_quality_loss: 0.2594 - wine_type_loss: 0.0189 - wine_quality_root_mean_squared_error: 0.5099 - wine_type_accuracy: 0.9962 - val_loss: 0.3963 - val_wine_quality_loss: 0.3711 - val_wine_type_loss: 0.0259 - val_wine_quality_root_mean_squared_error: 0.6085 - val_wine_type_accuracy: 0.9909\n",
      "Epoch 119/180\n",
      "3155/3155 [==============================] - 0s 88us/sample - loss: 0.2791 - wine_quality_loss: 0.2596 - wine_type_loss: 0.0189 - wine_quality_root_mean_squared_error: 0.5100 - wine_type_accuracy: 0.9962 - val_loss: 0.3947 - val_wine_quality_loss: 0.3696 - val_wine_type_loss: 0.0258 - val_wine_quality_root_mean_squared_error: 0.6073 - val_wine_type_accuracy: 0.9909\n",
      "Epoch 120/180\n",
      "3155/3155 [==============================] - 0s 86us/sample - loss: 0.2791 - wine_quality_loss: 0.2599 - wine_type_loss: 0.0187 - wine_quality_root_mean_squared_error: 0.5102 - wine_type_accuracy: 0.9962 - val_loss: 0.3906 - val_wine_quality_loss: 0.3655 - val_wine_type_loss: 0.0257 - val_wine_quality_root_mean_squared_error: 0.6040 - val_wine_type_accuracy: 0.9919\n",
      "Epoch 121/180\n",
      "3155/3155 [==============================] - 0s 73us/sample - loss: 0.2787 - wine_quality_loss: 0.2601 - wine_type_loss: 0.0187 - wine_quality_root_mean_squared_error: 0.5098 - wine_type_accuracy: 0.9962 - val_loss: 0.3933 - val_wine_quality_loss: 0.3682 - val_wine_type_loss: 0.0258 - val_wine_quality_root_mean_squared_error: 0.6061 - val_wine_type_accuracy: 0.9909\n",
      "Epoch 122/180\n",
      "3155/3155 [==============================] - 0s 87us/sample - loss: 0.2774 - wine_quality_loss: 0.2589 - wine_type_loss: 0.0186 - wine_quality_root_mean_squared_error: 0.5087 - wine_type_accuracy: 0.9962 - val_loss: 0.3995 - val_wine_quality_loss: 0.3745 - val_wine_type_loss: 0.0258 - val_wine_quality_root_mean_squared_error: 0.6113 - val_wine_type_accuracy: 0.9909\n",
      "Epoch 123/180\n",
      "3155/3155 [==============================] - 0s 73us/sample - loss: 0.2760 - wine_quality_loss: 0.2576 - wine_type_loss: 0.0197 - wine_quality_root_mean_squared_error: 0.5074 - wine_type_accuracy: 0.9962 - val_loss: 0.3952 - val_wine_quality_loss: 0.3700 - val_wine_type_loss: 0.0257 - val_wine_quality_root_mean_squared_error: 0.6078 - val_wine_type_accuracy: 0.9919\n",
      "Epoch 124/180\n",
      "3155/3155 [==============================] - 0s 88us/sample - loss: 0.2772 - wine_quality_loss: 0.2587 - wine_type_loss: 0.0184 - wine_quality_root_mean_squared_error: 0.5086 - wine_type_accuracy: 0.9962 - val_loss: 0.3912 - val_wine_quality_loss: 0.3662 - val_wine_type_loss: 0.0256 - val_wine_quality_root_mean_squared_error: 0.6046 - val_wine_type_accuracy: 0.9919\n",
      "Epoch 125/180\n",
      "3155/3155 [==============================] - 0s 73us/sample - loss: 0.2765 - wine_quality_loss: 0.2582 - wine_type_loss: 0.0183 - wine_quality_root_mean_squared_error: 0.5080 - wine_type_accuracy: 0.9962 - val_loss: 0.3871 - val_wine_quality_loss: 0.3623 - val_wine_type_loss: 0.0255 - val_wine_quality_root_mean_squared_error: 0.6013 - val_wine_type_accuracy: 0.9929\n",
      "Epoch 126/180\n",
      "3155/3155 [==============================] - 0s 89us/sample - loss: 0.2764 - wine_quality_loss: 0.2582 - wine_type_loss: 0.0183 - wine_quality_root_mean_squared_error: 0.5080 - wine_type_accuracy: 0.9962 - val_loss: 0.3902 - val_wine_quality_loss: 0.3654 - val_wine_type_loss: 0.0255 - val_wine_quality_root_mean_squared_error: 0.6038 - val_wine_type_accuracy: 0.9919\n",
      "Epoch 127/180\n"
     ]
    },
    {
     "name": "stdout",
     "output_type": "stream",
     "text": [
      "3155/3155 [==============================] - 0s 86us/sample - loss: 0.2747 - wine_quality_loss: 0.2563 - wine_type_loss: 0.0182 - wine_quality_root_mean_squared_error: 0.5064 - wine_type_accuracy: 0.9962 - val_loss: 0.4027 - val_wine_quality_loss: 0.3780 - val_wine_type_loss: 0.0255 - val_wine_quality_root_mean_squared_error: 0.6140 - val_wine_type_accuracy: 0.9919\n",
      "Epoch 128/180\n",
      "3155/3155 [==============================] - 0s 73us/sample - loss: 0.2754 - wine_quality_loss: 0.2577 - wine_type_loss: 0.0181 - wine_quality_root_mean_squared_error: 0.5072 - wine_type_accuracy: 0.9965 - val_loss: 0.3902 - val_wine_quality_loss: 0.3654 - val_wine_type_loss: 0.0255 - val_wine_quality_root_mean_squared_error: 0.6038 - val_wine_type_accuracy: 0.9919\n",
      "Epoch 129/180\n",
      "3155/3155 [==============================] - 0s 88us/sample - loss: 0.2741 - wine_quality_loss: 0.2559 - wine_type_loss: 0.0180 - wine_quality_root_mean_squared_error: 0.5060 - wine_type_accuracy: 0.9962 - val_loss: 0.4009 - val_wine_quality_loss: 0.3762 - val_wine_type_loss: 0.0254 - val_wine_quality_root_mean_squared_error: 0.6127 - val_wine_type_accuracy: 0.9919\n",
      "Epoch 130/180\n",
      "3155/3155 [==============================] - 0s 72us/sample - loss: 0.2740 - wine_quality_loss: 0.2557 - wine_type_loss: 0.0179 - wine_quality_root_mean_squared_error: 0.5060 - wine_type_accuracy: 0.9962 - val_loss: 0.3906 - val_wine_quality_loss: 0.3660 - val_wine_type_loss: 0.0254 - val_wine_quality_root_mean_squared_error: 0.6043 - val_wine_type_accuracy: 0.9919\n",
      "Epoch 131/180\n",
      "3155/3155 [==============================] - 0s 88us/sample - loss: 0.2742 - wine_quality_loss: 0.2565 - wine_type_loss: 0.0178 - wine_quality_root_mean_squared_error: 0.5062 - wine_type_accuracy: 0.9962 - val_loss: 0.3901 - val_wine_quality_loss: 0.3653 - val_wine_type_loss: 0.0253 - val_wine_quality_root_mean_squared_error: 0.6039 - val_wine_type_accuracy: 0.9929\n",
      "Epoch 132/180\n",
      "3155/3155 [==============================] - 0s 73us/sample - loss: 0.2734 - wine_quality_loss: 0.2552 - wine_type_loss: 0.0177 - wine_quality_root_mean_squared_error: 0.5056 - wine_type_accuracy: 0.9965 - val_loss: 0.3908 - val_wine_quality_loss: 0.3661 - val_wine_type_loss: 0.0252 - val_wine_quality_root_mean_squared_error: 0.6046 - val_wine_type_accuracy: 0.9929\n",
      "Epoch 133/180\n",
      "3155/3155 [==============================] - 0s 87us/sample - loss: 0.2728 - wine_quality_loss: 0.2548 - wine_type_loss: 0.0178 - wine_quality_root_mean_squared_error: 0.5050 - wine_type_accuracy: 0.9962 - val_loss: 0.3909 - val_wine_quality_loss: 0.3661 - val_wine_type_loss: 0.0252 - val_wine_quality_root_mean_squared_error: 0.6046 - val_wine_type_accuracy: 0.9929\n",
      "Epoch 134/180\n",
      "3155/3155 [==============================] - 0s 71us/sample - loss: 0.2721 - wine_quality_loss: 0.2541 - wine_type_loss: 0.0176 - wine_quality_root_mean_squared_error: 0.5045 - wine_type_accuracy: 0.9965 - val_loss: 0.3933 - val_wine_quality_loss: 0.3687 - val_wine_type_loss: 0.0254 - val_wine_quality_root_mean_squared_error: 0.6065 - val_wine_type_accuracy: 0.9919\n",
      "Epoch 135/180\n",
      "3155/3155 [==============================] - 0s 74us/sample - loss: 0.2721 - wine_quality_loss: 0.2545 - wine_type_loss: 0.0175 - wine_quality_root_mean_squared_error: 0.5045 - wine_type_accuracy: 0.9965 - val_loss: 0.3939 - val_wine_quality_loss: 0.3694 - val_wine_type_loss: 0.0254 - val_wine_quality_root_mean_squared_error: 0.6070 - val_wine_type_accuracy: 0.9929\n",
      "Epoch 136/180\n",
      "3155/3155 [==============================] - 0s 86us/sample - loss: 0.2718 - wine_quality_loss: 0.2543 - wine_type_loss: 0.0174 - wine_quality_root_mean_squared_error: 0.5043 - wine_type_accuracy: 0.9965 - val_loss: 0.3927 - val_wine_quality_loss: 0.3681 - val_wine_type_loss: 0.0252 - val_wine_quality_root_mean_squared_error: 0.6061 - val_wine_type_accuracy: 0.9919\n",
      "Epoch 137/180\n",
      "3155/3155 [==============================] - 0s 74us/sample - loss: 0.2710 - wine_quality_loss: 0.2536 - wine_type_loss: 0.0174 - wine_quality_root_mean_squared_error: 0.5035 - wine_type_accuracy: 0.9965 - val_loss: 0.4008 - val_wine_quality_loss: 0.3763 - val_wine_type_loss: 0.0252 - val_wine_quality_root_mean_squared_error: 0.6127 - val_wine_type_accuracy: 0.9929\n",
      "Epoch 138/180\n",
      "3155/3155 [==============================] - 0s 88us/sample - loss: 0.2712 - wine_quality_loss: 0.2540 - wine_type_loss: 0.0182 - wine_quality_root_mean_squared_error: 0.5038 - wine_type_accuracy: 0.9965 - val_loss: 0.3926 - val_wine_quality_loss: 0.3681 - val_wine_type_loss: 0.0252 - val_wine_quality_root_mean_squared_error: 0.6061 - val_wine_type_accuracy: 0.9929\n",
      "Epoch 139/180\n",
      "3155/3155 [==============================] - 0s 71us/sample - loss: 0.2705 - wine_quality_loss: 0.2530 - wine_type_loss: 0.0172 - wine_quality_root_mean_squared_error: 0.5033 - wine_type_accuracy: 0.9965 - val_loss: 0.3954 - val_wine_quality_loss: 0.3711 - val_wine_type_loss: 0.0251 - val_wine_quality_root_mean_squared_error: 0.6085 - val_wine_type_accuracy: 0.9929\n",
      "Epoch 140/180\n",
      "3155/3155 [==============================] - 0s 87us/sample - loss: 0.2693 - wine_quality_loss: 0.2519 - wine_type_loss: 0.0171 - wine_quality_root_mean_squared_error: 0.5021 - wine_type_accuracy: 0.9965 - val_loss: 0.3913 - val_wine_quality_loss: 0.3667 - val_wine_type_loss: 0.0252 - val_wine_quality_root_mean_squared_error: 0.6050 - val_wine_type_accuracy: 0.9929\n",
      "Epoch 141/180\n",
      "3155/3155 [==============================] - 0s 72us/sample - loss: 0.2689 - wine_quality_loss: 0.2522 - wine_type_loss: 0.0171 - wine_quality_root_mean_squared_error: 0.5018 - wine_type_accuracy: 0.9965 - val_loss: 0.3872 - val_wine_quality_loss: 0.3626 - val_wine_type_loss: 0.0250 - val_wine_quality_root_mean_squared_error: 0.6017 - val_wine_type_accuracy: 0.9929\n",
      "Epoch 142/180\n",
      "3155/3155 [==============================] - 0s 87us/sample - loss: 0.2688 - wine_quality_loss: 0.2514 - wine_type_loss: 0.0169 - wine_quality_root_mean_squared_error: 0.5018 - wine_type_accuracy: 0.9965 - val_loss: 0.3915 - val_wine_quality_loss: 0.3670 - val_wine_type_loss: 0.0251 - val_wine_quality_root_mean_squared_error: 0.6052 - val_wine_type_accuracy: 0.9929\n",
      "Epoch 143/180\n",
      "3155/3155 [==============================] - 0s 72us/sample - loss: 0.2688 - wine_quality_loss: 0.2520 - wine_type_loss: 0.0169 - wine_quality_root_mean_squared_error: 0.5018 - wine_type_accuracy: 0.9965 - val_loss: 0.4002 - val_wine_quality_loss: 0.3757 - val_wine_type_loss: 0.0251 - val_wine_quality_root_mean_squared_error: 0.6123 - val_wine_type_accuracy: 0.9929\n",
      "Epoch 144/180\n",
      "3155/3155 [==============================] - 0s 87us/sample - loss: 0.2666 - wine_quality_loss: 0.2493 - wine_type_loss: 0.0177 - wine_quality_root_mean_squared_error: 0.4998 - wine_type_accuracy: 0.9965 - val_loss: 0.3923 - val_wine_quality_loss: 0.3676 - val_wine_type_loss: 0.0252 - val_wine_quality_root_mean_squared_error: 0.6058 - val_wine_type_accuracy: 0.9929\n",
      "Epoch 145/180\n",
      "3155/3155 [==============================] - 0s 71us/sample - loss: 0.2675 - wine_quality_loss: 0.2510 - wine_type_loss: 0.0167 - wine_quality_root_mean_squared_error: 0.5008 - wine_type_accuracy: 0.9965 - val_loss: 0.3915 - val_wine_quality_loss: 0.3669 - val_wine_type_loss: 0.0251 - val_wine_quality_root_mean_squared_error: 0.6052 - val_wine_type_accuracy: 0.9929\n",
      "Epoch 146/180\n",
      "3155/3155 [==============================] - 0s 87us/sample - loss: 0.2670 - wine_quality_loss: 0.2501 - wine_type_loss: 0.0167 - wine_quality_root_mean_squared_error: 0.5003 - wine_type_accuracy: 0.9965 - val_loss: 0.3905 - val_wine_quality_loss: 0.3659 - val_wine_type_loss: 0.0250 - val_wine_quality_root_mean_squared_error: 0.6044 - val_wine_type_accuracy: 0.9929\n",
      "Epoch 147/180\n",
      "3155/3155 [==============================] - 0s 71us/sample - loss: 0.2669 - wine_quality_loss: 0.2503 - wine_type_loss: 0.0165 - wine_quality_root_mean_squared_error: 0.5003 - wine_type_accuracy: 0.9965 - val_loss: 0.3964 - val_wine_quality_loss: 0.3720 - val_wine_type_loss: 0.0251 - val_wine_quality_root_mean_squared_error: 0.6093 - val_wine_type_accuracy: 0.9929\n",
      "Epoch 148/180\n",
      "3155/3155 [==============================] - 0s 86us/sample - loss: 0.2656 - wine_quality_loss: 0.2498 - wine_type_loss: 0.0165 - wine_quality_root_mean_squared_error: 0.4990 - wine_type_accuracy: 0.9965 - val_loss: 0.3932 - val_wine_quality_loss: 0.3687 - val_wine_type_loss: 0.0250 - val_wine_quality_root_mean_squared_error: 0.6067 - val_wine_type_accuracy: 0.9929\n",
      "Epoch 149/180\n",
      "3155/3155 [==============================] - 0s 72us/sample - loss: 0.2649 - wine_quality_loss: 0.2482 - wine_type_loss: 0.0164 - wine_quality_root_mean_squared_error: 0.4984 - wine_type_accuracy: 0.9965 - val_loss: 0.3914 - val_wine_quality_loss: 0.3670 - val_wine_type_loss: 0.0250 - val_wine_quality_root_mean_squared_error: 0.6052 - val_wine_type_accuracy: 0.9929\n",
      "Epoch 150/180\n",
      "3155/3155 [==============================] - 0s 86us/sample - loss: 0.2651 - wine_quality_loss: 0.2489 - wine_type_loss: 0.0163 - wine_quality_root_mean_squared_error: 0.4987 - wine_type_accuracy: 0.9965 - val_loss: 0.3933 - val_wine_quality_loss: 0.3690 - val_wine_type_loss: 0.0249 - val_wine_quality_root_mean_squared_error: 0.6069 - val_wine_type_accuracy: 0.9929\n",
      "Epoch 151/180\n",
      "3155/3155 [==============================] - 0s 72us/sample - loss: 0.2662 - wine_quality_loss: 0.2497 - wine_type_loss: 0.0163 - wine_quality_root_mean_squared_error: 0.4998 - wine_type_accuracy: 0.9965 - val_loss: 0.3937 - val_wine_quality_loss: 0.3695 - val_wine_type_loss: 0.0248 - val_wine_quality_root_mean_squared_error: 0.6073 - val_wine_type_accuracy: 0.9929\n",
      "Epoch 152/180\n",
      "3155/3155 [==============================] - 0s 87us/sample - loss: 0.2645 - wine_quality_loss: 0.2478 - wine_type_loss: 0.0162 - wine_quality_root_mean_squared_error: 0.4982 - wine_type_accuracy: 0.9965 - val_loss: 0.3918 - val_wine_quality_loss: 0.3677 - val_wine_type_loss: 0.0249 - val_wine_quality_root_mean_squared_error: 0.6057 - val_wine_type_accuracy: 0.9929\n",
      "Epoch 153/180\n",
      "3155/3155 [==============================] - 0s 71us/sample - loss: 0.2641 - wine_quality_loss: 0.2480 - wine_type_loss: 0.0161 - wine_quality_root_mean_squared_error: 0.4980 - wine_type_accuracy: 0.9965 - val_loss: 0.3908 - val_wine_quality_loss: 0.3665 - val_wine_type_loss: 0.0249 - val_wine_quality_root_mean_squared_error: 0.6048 - val_wine_type_accuracy: 0.9929\n",
      "Epoch 154/180\n",
      "3155/3155 [==============================] - 0s 88us/sample - loss: 0.2635 - wine_quality_loss: 0.2479 - wine_type_loss: 0.0161 - wine_quality_root_mean_squared_error: 0.4974 - wine_type_accuracy: 0.9965 - val_loss: 0.3907 - val_wine_quality_loss: 0.3664 - val_wine_type_loss: 0.0249 - val_wine_quality_root_mean_squared_error: 0.6047 - val_wine_type_accuracy: 0.9929\n",
      "Epoch 155/180\n",
      "3155/3155 [==============================] - 0s 86us/sample - loss: 0.2635 - wine_quality_loss: 0.2473 - wine_type_loss: 0.0160 - wine_quality_root_mean_squared_error: 0.4974 - wine_type_accuracy: 0.9965 - val_loss: 0.3892 - val_wine_quality_loss: 0.3651 - val_wine_type_loss: 0.0247 - val_wine_quality_root_mean_squared_error: 0.6036 - val_wine_type_accuracy: 0.9919\n",
      "Epoch 156/180\n",
      "3155/3155 [==============================] - 0s 73us/sample - loss: 0.2629 - wine_quality_loss: 0.2468 - wine_type_loss: 0.0159 - wine_quality_root_mean_squared_error: 0.4969 - wine_type_accuracy: 0.9965 - val_loss: 0.3910 - val_wine_quality_loss: 0.3669 - val_wine_type_loss: 0.0247 - val_wine_quality_root_mean_squared_error: 0.6051 - val_wine_type_accuracy: 0.9929\n",
      "Epoch 157/180\n",
      "3155/3155 [==============================] - 0s 87us/sample - loss: 0.2620 - wine_quality_loss: 0.2458 - wine_type_loss: 0.0159 - wine_quality_root_mean_squared_error: 0.4960 - wine_type_accuracy: 0.9965 - val_loss: 0.3951 - val_wine_quality_loss: 0.3708 - val_wine_type_loss: 0.0248 - val_wine_quality_root_mean_squared_error: 0.6084 - val_wine_type_accuracy: 0.9929\n",
      "Epoch 158/180\n",
      "3155/3155 [==============================] - 0s 72us/sample - loss: 0.2612 - wine_quality_loss: 0.2449 - wine_type_loss: 0.0159 - wine_quality_root_mean_squared_error: 0.4952 - wine_type_accuracy: 0.9965 - val_loss: 0.3904 - val_wine_quality_loss: 0.3664 - val_wine_type_loss: 0.0247 - val_wine_quality_root_mean_squared_error: 0.6046 - val_wine_type_accuracy: 0.9929\n",
      "Epoch 159/180\n",
      "3155/3155 [==============================] - 0s 86us/sample - loss: 0.2627 - wine_quality_loss: 0.2472 - wine_type_loss: 0.0157 - wine_quality_root_mean_squared_error: 0.4969 - wine_type_accuracy: 0.9965 - val_loss: 0.4082 - val_wine_quality_loss: 0.3841 - val_wine_type_loss: 0.0247 - val_wine_quality_root_mean_squared_error: 0.6191 - val_wine_type_accuracy: 0.9919\n",
      "Epoch 160/180\n",
      "3155/3155 [==============================] - 0s 72us/sample - loss: 0.2608 - wine_quality_loss: 0.2448 - wine_type_loss: 0.0157 - wine_quality_root_mean_squared_error: 0.4951 - wine_type_accuracy: 0.9965 - val_loss: 0.3840 - val_wine_quality_loss: 0.3597 - val_wine_type_loss: 0.0246 - val_wine_quality_root_mean_squared_error: 0.5993 - val_wine_type_accuracy: 0.9919\n",
      "Epoch 161/180\n",
      "3155/3155 [==============================] - 0s 87us/sample - loss: 0.2616 - wine_quality_loss: 0.2458 - wine_type_loss: 0.0156 - wine_quality_root_mean_squared_error: 0.4960 - wine_type_accuracy: 0.9965 - val_loss: 0.3928 - val_wine_quality_loss: 0.3687 - val_wine_type_loss: 0.0246 - val_wine_quality_root_mean_squared_error: 0.6067 - val_wine_type_accuracy: 0.9919\n",
      "Epoch 162/180\n",
      "3155/3155 [==============================] - 0s 73us/sample - loss: 0.2597 - wine_quality_loss: 0.2439 - wine_type_loss: 0.0156 - wine_quality_root_mean_squared_error: 0.4941 - wine_type_accuracy: 0.9965 - val_loss: 0.3971 - val_wine_quality_loss: 0.3730 - val_wine_type_loss: 0.0247 - val_wine_quality_root_mean_squared_error: 0.6102 - val_wine_type_accuracy: 0.9919\n",
      "Epoch 163/180\n",
      "3155/3155 [==============================] - 0s 86us/sample - loss: 0.2598 - wine_quality_loss: 0.2441 - wine_type_loss: 0.0155 - wine_quality_root_mean_squared_error: 0.4942 - wine_type_accuracy: 0.9965 - val_loss: 0.3909 - val_wine_quality_loss: 0.3668 - val_wine_type_loss: 0.0245 - val_wine_quality_root_mean_squared_error: 0.6052 - val_wine_type_accuracy: 0.9919\n",
      "Epoch 164/180\n",
      "3155/3155 [==============================] - 0s 72us/sample - loss: 0.2603 - wine_quality_loss: 0.2450 - wine_type_loss: 0.0154 - wine_quality_root_mean_squared_error: 0.4948 - wine_type_accuracy: 0.9965 - val_loss: 0.3891 - val_wine_quality_loss: 0.3650 - val_wine_type_loss: 0.0245 - val_wine_quality_root_mean_squared_error: 0.6037 - val_wine_type_accuracy: 0.9919\n",
      "Epoch 165/180\n",
      "3155/3155 [==============================] - 0s 88us/sample - loss: 0.2593 - wine_quality_loss: 0.2440 - wine_type_loss: 0.0153 - wine_quality_root_mean_squared_error: 0.4939 - wine_type_accuracy: 0.9965 - val_loss: 0.3896 - val_wine_quality_loss: 0.3655 - val_wine_type_loss: 0.0246 - val_wine_quality_root_mean_squared_error: 0.6041 - val_wine_type_accuracy: 0.9919\n",
      "Epoch 166/180\n",
      "3155/3155 [==============================] - 0s 72us/sample - loss: 0.2589 - wine_quality_loss: 0.2435 - wine_type_loss: 0.0152 - wine_quality_root_mean_squared_error: 0.4935 - wine_type_accuracy: 0.9965 - val_loss: 0.3960 - val_wine_quality_loss: 0.3720 - val_wine_type_loss: 0.0246 - val_wine_quality_root_mean_squared_error: 0.6094 - val_wine_type_accuracy: 0.9919\n",
      "Epoch 167/180\n",
      "3155/3155 [==============================] - 0s 88us/sample - loss: 0.2590 - wine_quality_loss: 0.2440 - wine_type_loss: 0.0152 - wine_quality_root_mean_squared_error: 0.4937 - wine_type_accuracy: 0.9965 - val_loss: 0.3962 - val_wine_quality_loss: 0.3722 - val_wine_type_loss: 0.0244 - val_wine_quality_root_mean_squared_error: 0.6096 - val_wine_type_accuracy: 0.9919\n",
      "Epoch 168/180\n",
      "3155/3155 [==============================] - 0s 87us/sample - loss: 0.2585 - wine_quality_loss: 0.2442 - wine_type_loss: 0.0151 - wine_quality_root_mean_squared_error: 0.4933 - wine_type_accuracy: 0.9965 - val_loss: 0.3880 - val_wine_quality_loss: 0.3638 - val_wine_type_loss: 0.0246 - val_wine_quality_root_mean_squared_error: 0.6027 - val_wine_type_accuracy: 0.9919\n",
      "Epoch 169/180\n"
     ]
    },
    {
     "name": "stdout",
     "output_type": "stream",
     "text": [
      "3155/3155 [==============================] - 0s 75us/sample - loss: 0.2581 - wine_quality_loss: 0.2429 - wine_type_loss: 0.0151 - wine_quality_root_mean_squared_error: 0.4929 - wine_type_accuracy: 0.9965 - val_loss: 0.3997 - val_wine_quality_loss: 0.3757 - val_wine_type_loss: 0.0246 - val_wine_quality_root_mean_squared_error: 0.6124 - val_wine_type_accuracy: 0.9919\n",
      "Epoch 170/180\n",
      "3155/3155 [==============================] - 0s 87us/sample - loss: 0.2562 - wine_quality_loss: 0.2407 - wine_type_loss: 0.0150 - wine_quality_root_mean_squared_error: 0.4910 - wine_type_accuracy: 0.9965 - val_loss: 0.3995 - val_wine_quality_loss: 0.3755 - val_wine_type_loss: 0.0245 - val_wine_quality_root_mean_squared_error: 0.6122 - val_wine_type_accuracy: 0.9919\n",
      "Epoch 171/180\n",
      "3155/3155 [==============================] - 0s 72us/sample - loss: 0.2584 - wine_quality_loss: 0.2443 - wine_type_loss: 0.0149 - wine_quality_root_mean_squared_error: 0.4934 - wine_type_accuracy: 0.9965 - val_loss: 0.3947 - val_wine_quality_loss: 0.3708 - val_wine_type_loss: 0.0244 - val_wine_quality_root_mean_squared_error: 0.6084 - val_wine_type_accuracy: 0.9919\n",
      "Epoch 172/180\n",
      "3155/3155 [==============================] - 0s 88us/sample - loss: 0.2558 - wine_quality_loss: 0.2407 - wine_type_loss: 0.0149 - wine_quality_root_mean_squared_error: 0.4907 - wine_type_accuracy: 0.9965 - val_loss: 0.4127 - val_wine_quality_loss: 0.3886 - val_wine_type_loss: 0.0245 - val_wine_quality_root_mean_squared_error: 0.6230 - val_wine_type_accuracy: 0.9919\n",
      "Epoch 173/180\n",
      "3155/3155 [==============================] - 0s 73us/sample - loss: 0.2565 - wine_quality_loss: 0.2413 - wine_type_loss: 0.0148 - wine_quality_root_mean_squared_error: 0.4916 - wine_type_accuracy: 0.9965 - val_loss: 0.3909 - val_wine_quality_loss: 0.3671 - val_wine_type_loss: 0.0244 - val_wine_quality_root_mean_squared_error: 0.6053 - val_wine_type_accuracy: 0.9919\n",
      "Epoch 174/180\n",
      "3155/3155 [==============================] - 0s 89us/sample - loss: 0.2548 - wine_quality_loss: 0.2405 - wine_type_loss: 0.0148 - wine_quality_root_mean_squared_error: 0.4899 - wine_type_accuracy: 0.9965 - val_loss: 0.3962 - val_wine_quality_loss: 0.3726 - val_wine_type_loss: 0.0242 - val_wine_quality_root_mean_squared_error: 0.6098 - val_wine_type_accuracy: 0.9929\n",
      "Epoch 175/180\n",
      "3155/3155 [==============================] - 0s 88us/sample - loss: 0.2557 - wine_quality_loss: 0.2407 - wine_type_loss: 0.0147 - wine_quality_root_mean_squared_error: 0.4908 - wine_type_accuracy: 0.9965 - val_loss: 0.3897 - val_wine_quality_loss: 0.3658 - val_wine_type_loss: 0.0243 - val_wine_quality_root_mean_squared_error: 0.6044 - val_wine_type_accuracy: 0.9929\n",
      "Epoch 176/180\n",
      "3155/3155 [==============================] - 0s 72us/sample - loss: 0.2558 - wine_quality_loss: 0.2409 - wine_type_loss: 0.0146 - wine_quality_root_mean_squared_error: 0.4911 - wine_type_accuracy: 0.9965 - val_loss: 0.3916 - val_wine_quality_loss: 0.3680 - val_wine_type_loss: 0.0243 - val_wine_quality_root_mean_squared_error: 0.6060 - val_wine_type_accuracy: 0.9929\n",
      "Epoch 177/180\n",
      "3155/3155 [==============================] - 0s 89us/sample - loss: 0.2553 - wine_quality_loss: 0.2403 - wine_type_loss: 0.0147 - wine_quality_root_mean_squared_error: 0.4905 - wine_type_accuracy: 0.9965 - val_loss: 0.3899 - val_wine_quality_loss: 0.3661 - val_wine_type_loss: 0.0243 - val_wine_quality_root_mean_squared_error: 0.6045 - val_wine_type_accuracy: 0.9929\n",
      "Epoch 178/180\n",
      "3155/3155 [==============================] - 0s 72us/sample - loss: 0.2541 - wine_quality_loss: 0.2395 - wine_type_loss: 0.0145 - wine_quality_root_mean_squared_error: 0.4895 - wine_type_accuracy: 0.9965 - val_loss: 0.3896 - val_wine_quality_loss: 0.3657 - val_wine_type_loss: 0.0243 - val_wine_quality_root_mean_squared_error: 0.6043 - val_wine_type_accuracy: 0.9929\n",
      "Epoch 179/180\n",
      "3155/3155 [==============================] - 0s 87us/sample - loss: 0.2546 - wine_quality_loss: 0.2400 - wine_type_loss: 0.0144 - wine_quality_root_mean_squared_error: 0.4900 - wine_type_accuracy: 0.9965 - val_loss: 0.3886 - val_wine_quality_loss: 0.3648 - val_wine_type_loss: 0.0243 - val_wine_quality_root_mean_squared_error: 0.6035 - val_wine_type_accuracy: 0.9929\n",
      "Epoch 180/180\n",
      "3155/3155 [==============================] - 0s 73us/sample - loss: 0.2535 - wine_quality_loss: 0.2391 - wine_type_loss: 0.0143 - wine_quality_root_mean_squared_error: 0.4890 - wine_type_accuracy: 0.9965 - val_loss: 0.3900 - val_wine_quality_loss: 0.3661 - val_wine_type_loss: 0.0243 - val_wine_quality_root_mean_squared_error: 0.6046 - val_wine_type_accuracy: 0.9919\n"
     ]
    }
   ],
   "source": [
    "## Please uncomment all lines in this cell and replace those marked with `# YOUR CODE HERE`.\n",
    "## You can select all lines in this code cell with Ctrl+A (Windows/Linux) or Cmd+A (Mac), then press Ctrl+/ (Windows/Linux) or Cmd+/ (Mac) to uncomment.\n",
    "\n",
    "\n",
    "\n",
    "history = model.fit(norm_train_X, train_Y,\n",
    "                     epochs = 180, validation_data=(norm_test_X, test_Y))"
   ]
  },
  {
   "cell_type": "code",
   "execution_count": 56,
   "metadata": {
    "deletable": false,
    "editable": false,
    "nbgrader": {
     "cell_type": "code",
     "checksum": "fadad8896eda9c8c2115970724b15508",
     "grade": true,
     "grade_id": "cell-eb4d5b41bef8f0ab",
     "locked": true,
     "points": 1,
     "schema_version": 3,
     "solution": false,
     "task": false
    }
   },
   "outputs": [
    {
     "name": "stdout",
     "output_type": "stream",
     "text": [
      "\u001b[92m All public tests passed\n"
     ]
    }
   ],
   "source": [
    "utils.test_history(history)"
   ]
  },
  {
   "cell_type": "code",
   "execution_count": 57,
   "metadata": {
    "colab": {},
    "colab_type": "code",
    "id": "CubF2J2gSf6q"
   },
   "outputs": [
    {
     "name": "stdout",
     "output_type": "stream",
     "text": [
      "789/789 [==============================] - 0s 21us/sample - loss: 0.3837 - wine_quality_loss: 0.3586 - wine_type_loss: 0.0245 - wine_quality_root_mean_squared_error: 0.5991 - wine_type_accuracy: 0.9949\n",
      "\n",
      "loss: 0.38371471805717555\n",
      "wine_quality_loss: 0.35859566926956177\n",
      "wine_type_loss: 0.02451065368950367\n",
      "wine_quality_rmse: 0.5990629196166992\n",
      "wine_type_accuracy: 0.9949302673339844\n"
     ]
    }
   ],
   "source": [
    "# Gather the training metrics\n",
    "loss, wine_quality_loss, wine_type_loss, wine_quality_rmse, wine_type_accuracy = model.evaluate(x=norm_val_X, y=val_Y)\n",
    "\n",
    "print()\n",
    "print(f'loss: {loss}')\n",
    "print(f'wine_quality_loss: {wine_quality_loss}')\n",
    "print(f'wine_type_loss: {wine_type_loss}')\n",
    "print(f'wine_quality_rmse: {wine_quality_rmse}')\n",
    "print(f'wine_type_accuracy: {wine_type_accuracy}')\n",
    "\n",
    "# EXPECTED VALUES\n",
    "# ~ 0.30 - 0.38\n",
    "# ~ 0.30 - 0.38\n",
    "# ~ 0.018 - 0.030\n",
    "# ~ 0.50 - 0.62\n",
    "# ~ 0.97 - 1.0\n",
    "\n",
    "# Example:\n",
    "#0.3657050132751465\n",
    "#0.3463745415210724\n",
    "#0.019330406561493874\n",
    "#0.5885359048843384\n",
    "#0.9974651336669922"
   ]
  },
  {
   "cell_type": "markdown",
   "metadata": {
    "colab_type": "text",
    "id": "gPtTGAP4usnm"
   },
   "source": [
    "## Analyze the Model Performance\n",
    "\n",
    "Note that the model has two outputs. The output at index 0 is quality and index 1 is wine type\n",
    "\n",
    "So, round the quality predictions to the nearest integer."
   ]
  },
  {
   "cell_type": "code",
   "execution_count": 58,
   "metadata": {
    "colab": {},
    "colab_type": "code",
    "id": "tBq9PEeAaW-Y"
   },
   "outputs": [],
   "source": [
    "predictions = model.predict(norm_test_X)\n",
    "quality_pred = predictions[0]\n",
    "type_pred = predictions[1]"
   ]
  },
  {
   "cell_type": "code",
   "execution_count": 59,
   "metadata": {
    "colab": {},
    "colab_type": "code",
    "id": "YLhgTR4xTIxj"
   },
   "outputs": [
    {
     "name": "stdout",
     "output_type": "stream",
     "text": [
      "[5.472754]\n"
     ]
    }
   ],
   "source": [
    "print(quality_pred[0])\n",
    "\n",
    "# EXPECTED OUTPUT\n",
    "# 5.6 - 6.0"
   ]
  },
  {
   "cell_type": "code",
   "execution_count": 60,
   "metadata": {
    "colab": {},
    "colab_type": "code",
    "id": "MPi-eYfGTUXi"
   },
   "outputs": [
    {
     "name": "stdout",
     "output_type": "stream",
     "text": [
      "[0.00073534]\n",
      "[0.99969244]\n"
     ]
    }
   ],
   "source": [
    "print(type_pred[0])\n",
    "print(type_pred[944])\n",
    "\n",
    "# EXPECTED OUTPUT\n",
    "# A number close to zero\n",
    "# A number close to or equal to 1"
   ]
  },
  {
   "cell_type": "markdown",
   "metadata": {
    "colab_type": "text",
    "id": "Kohk-9C6vt_s"
   },
   "source": [
    "### Plot Utilities\n",
    "\n",
    "We define a few utilities to visualize the model performance."
   ]
  },
  {
   "cell_type": "code",
   "execution_count": 61,
   "metadata": {
    "colab": {},
    "colab_type": "code",
    "id": "62gEOFUhn6aQ"
   },
   "outputs": [],
   "source": [
    "def plot_metrics(metric_name, title, ylim=5):\n",
    "    plt.title(title)\n",
    "    plt.ylim(0,ylim)\n",
    "    plt.plot(history.history[metric_name],color='blue',label=metric_name)\n",
    "    plt.plot(history.history['val_' + metric_name],color='green',label='val_' + metric_name)\n"
   ]
  },
  {
   "cell_type": "code",
   "execution_count": 62,
   "metadata": {
    "colab": {},
    "colab_type": "code",
    "id": "6rfgSx7uz5dj"
   },
   "outputs": [],
   "source": [
    "def plot_confusion_matrix(y_true, y_pred, title='', labels=[0,1]):\n",
    "    cm = confusion_matrix(y_true, y_pred)\n",
    "    fig = plt.figure()\n",
    "    ax = fig.add_subplot(111)\n",
    "    cax = ax.matshow(cm)\n",
    "    plt.title('Confusion matrix of the classifier')\n",
    "    fig.colorbar(cax)\n",
    "    ax.set_xticklabels([''] + labels)\n",
    "    ax.set_yticklabels([''] + labels)\n",
    "    plt.xlabel('Predicted')\n",
    "    plt.ylabel('True')\n",
    "    fmt = 'd'\n",
    "    thresh = cm.max() / 2.\n",
    "    for i, j in itertools.product(range(cm.shape[0]), range(cm.shape[1])):\n",
    "          plt.text(j, i, format(cm[i, j], fmt),\n",
    "                  horizontalalignment=\"center\",\n",
    "                  color=\"black\" if cm[i, j] > thresh else \"white\")\n",
    "    plt.show()"
   ]
  },
  {
   "cell_type": "code",
   "execution_count": 63,
   "metadata": {
    "colab": {},
    "colab_type": "code",
    "id": "dfVLIqi017Vf"
   },
   "outputs": [],
   "source": [
    "def plot_diff(y_true, y_pred, title = '' ):\n",
    "    plt.scatter(y_true, y_pred)\n",
    "    plt.title(title)\n",
    "    plt.xlabel('True Values')\n",
    "    plt.ylabel('Predictions')\n",
    "    plt.axis('equal')\n",
    "    plt.axis('square')\n",
    "    plt.plot([-100, 100], [-100, 100])\n",
    "    return plt"
   ]
  },
  {
   "cell_type": "markdown",
   "metadata": {
    "colab_type": "text",
    "id": "8sd1jdFbwE0I"
   },
   "source": [
    "### Plots for Metrics"
   ]
  },
  {
   "cell_type": "code",
   "execution_count": 64,
   "metadata": {
    "colab": {},
    "colab_type": "code",
    "id": "f3MwZ5J1pOfj"
   },
   "outputs": [
    {
     "data": {
      "image/png": "[encoded data removed]",
      "text/plain": [
       "<Figure size 432x288 with 1 Axes>"
      ]
     },
     "metadata": {
      "needs_background": "light"
     },
     "output_type": "display_data"
    }
   ],
   "source": [
    "plot_metrics('wine_quality_root_mean_squared_error', 'RMSE', ylim=2)"
   ]
  },
  {
   "cell_type": "code",
   "execution_count": 65,
   "metadata": {
    "colab": {},
    "colab_type": "code",
    "id": "QIAxEezCppnd"
   },
   "outputs": [
    {
     "data": {
      "image/png": "[encoded data removed]",
      "text/plain": [
       "<Figure size 432x288 with 1 Axes>"
      ]
     },
     "metadata": {
      "needs_background": "light"
     },
     "output_type": "display_data"
    }
   ],
   "source": [
    "plot_metrics('wine_type_loss', 'Wine Type Loss', ylim=0.2)"
   ]
  },
  {
   "cell_type": "markdown",
   "metadata": {
    "colab_type": "text",
    "id": "uYV9AOAMwI9p"
   },
   "source": [
    "### Plots for Confusion Matrix\n",
    "\n",
    "Plot the confusion matrices for wine type. You can see that the model performs well for prediction of wine type from the confusion matrix and the loss metrics."
   ]
  },
  {
   "cell_type": "code",
   "execution_count": 66,
   "metadata": {
    "colab": {},
    "colab_type": "code",
    "id": "C3hvTYxIaf3n"
   },
   "outputs": [
    {
     "data": {
      "image/png": "[encoded data removed]",
      "text/plain": [
       "<Figure size 432x288 with 2 Axes>"
      ]
     },
     "metadata": {
      "needs_background": "light"
     },
     "output_type": "display_data"
    }
   ],
   "source": [
    "plot_confusion_matrix(test_Y[1], np.round(type_pred), title='Wine Type', labels = [0, 1])"
   ]
  },
  {
   "cell_type": "code",
   "execution_count": 67,
   "metadata": {
    "colab": {},
    "colab_type": "code",
    "id": "GW91ym8P2I5y"
   },
   "outputs": [
    {
     "data": {
      "image/png": "[encoded data removed]",
      "text/plain": [
       "<Figure size 432x288 with 1 Axes>"
      ]
     },
     "metadata": {
      "needs_background": "light"
     },
     "output_type": "display_data"
    }
   ],
   "source": [
    "scatter_plot = plot_diff(test_Y[0], quality_pred, title='Type')"
   ]
  },
  {
   "cell_type": "code",
   "execution_count": null,
   "metadata": {},
   "outputs": [],
   "source": []
  }
 ],
 "metadata": {
  "colab": {
   "include_colab_link": true,
   "name": "exercise-answer.ipynb",
   "provenance": []
  },
  "kernelspec": {
   "display_name": "Python 3",
   "language": "python",
   "name": "python3"
  },
  "language_info": {
   "codemirror_mode": {
    "name": "ipython",
    "version": 3
   },
   "file_extension": ".py",
   "mimetype": "text/x-python",
   "name": "python",
   "nbconvert_exporter": "python",
   "pygments_lexer": "ipython3",
   "version": "3.7.6"
  }
 },
 "nbformat": 4,
 "nbformat_minor": 4
}
